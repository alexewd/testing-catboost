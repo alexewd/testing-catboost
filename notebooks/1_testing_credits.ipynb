{
 "cells": [
  {
   "cell_type": "markdown",
   "metadata": {},
   "source": [
    "# Credit cards fraud detection"
   ]
  },
  {
   "cell_type": "markdown",
   "metadata": {},
   "source": [
    "https://www.kaggle.com/dalpozz/creditcardfraud\n",
    "\n",
    "The datasets contains transactions made by credit cards in September 2013 by european cardholders. This dataset presents transactions that occurred in two days, where we have 492 frauds out of 284,807 transactions. The dataset is highly unbalanced, the positive class (frauds) account for 0.172% of all transactions.\n",
    "\n",
    "It contains only numerical input variables which are the result of a PCA transformation.\n",
    "\n",
    "Andrea Dal Pozzolo, Olivier Caelen, Reid A. Johnson and Gianluca Bontempi. Calibrating Probability with Undersampling for Unbalanced Classification. In Symposium on Computational Intelligence and Data Mining (CIDM), IEEE, 2015"
   ]
  },
  {
   "cell_type": "markdown",
   "metadata": {},
   "source": [
    "## Preprocessing"
   ]
  },
  {
   "cell_type": "code",
   "execution_count": 1,
   "metadata": {},
   "outputs": [
    {
     "data": {
      "text/html": [
       "<div>\n",
       "<style>\n",
       "    .dataframe thead tr:only-child th {\n",
       "        text-align: right;\n",
       "    }\n",
       "\n",
       "    .dataframe thead th {\n",
       "        text-align: left;\n",
       "    }\n",
       "\n",
       "    .dataframe tbody tr th {\n",
       "        vertical-align: top;\n",
       "    }\n",
       "</style>\n",
       "<table border=\"1\" class=\"dataframe\">\n",
       "  <thead>\n",
       "    <tr style=\"text-align: right;\">\n",
       "      <th></th>\n",
       "      <th>Time</th>\n",
       "      <th>V1</th>\n",
       "      <th>V2</th>\n",
       "      <th>V3</th>\n",
       "      <th>V4</th>\n",
       "      <th>V5</th>\n",
       "      <th>V6</th>\n",
       "      <th>V7</th>\n",
       "      <th>V8</th>\n",
       "      <th>V9</th>\n",
       "      <th>...</th>\n",
       "      <th>V21</th>\n",
       "      <th>V22</th>\n",
       "      <th>V23</th>\n",
       "      <th>V24</th>\n",
       "      <th>V25</th>\n",
       "      <th>V26</th>\n",
       "      <th>V27</th>\n",
       "      <th>V28</th>\n",
       "      <th>Amount</th>\n",
       "      <th>Class</th>\n",
       "    </tr>\n",
       "  </thead>\n",
       "  <tbody>\n",
       "    <tr>\n",
       "      <th>0</th>\n",
       "      <td>0.0</td>\n",
       "      <td>-1.359807</td>\n",
       "      <td>-0.072781</td>\n",
       "      <td>2.536347</td>\n",
       "      <td>1.378155</td>\n",
       "      <td>-0.338321</td>\n",
       "      <td>0.462388</td>\n",
       "      <td>0.239599</td>\n",
       "      <td>0.098698</td>\n",
       "      <td>0.363787</td>\n",
       "      <td>...</td>\n",
       "      <td>-0.018307</td>\n",
       "      <td>0.277838</td>\n",
       "      <td>-0.110474</td>\n",
       "      <td>0.066928</td>\n",
       "      <td>0.128539</td>\n",
       "      <td>-0.189115</td>\n",
       "      <td>0.133558</td>\n",
       "      <td>-0.021053</td>\n",
       "      <td>149.62</td>\n",
       "      <td>0</td>\n",
       "    </tr>\n",
       "    <tr>\n",
       "      <th>1</th>\n",
       "      <td>0.0</td>\n",
       "      <td>1.191857</td>\n",
       "      <td>0.266151</td>\n",
       "      <td>0.166480</td>\n",
       "      <td>0.448154</td>\n",
       "      <td>0.060018</td>\n",
       "      <td>-0.082361</td>\n",
       "      <td>-0.078803</td>\n",
       "      <td>0.085102</td>\n",
       "      <td>-0.255425</td>\n",
       "      <td>...</td>\n",
       "      <td>-0.225775</td>\n",
       "      <td>-0.638672</td>\n",
       "      <td>0.101288</td>\n",
       "      <td>-0.339846</td>\n",
       "      <td>0.167170</td>\n",
       "      <td>0.125895</td>\n",
       "      <td>-0.008983</td>\n",
       "      <td>0.014724</td>\n",
       "      <td>2.69</td>\n",
       "      <td>0</td>\n",
       "    </tr>\n",
       "    <tr>\n",
       "      <th>2</th>\n",
       "      <td>1.0</td>\n",
       "      <td>-1.358354</td>\n",
       "      <td>-1.340163</td>\n",
       "      <td>1.773209</td>\n",
       "      <td>0.379780</td>\n",
       "      <td>-0.503198</td>\n",
       "      <td>1.800499</td>\n",
       "      <td>0.791461</td>\n",
       "      <td>0.247676</td>\n",
       "      <td>-1.514654</td>\n",
       "      <td>...</td>\n",
       "      <td>0.247998</td>\n",
       "      <td>0.771679</td>\n",
       "      <td>0.909412</td>\n",
       "      <td>-0.689281</td>\n",
       "      <td>-0.327642</td>\n",
       "      <td>-0.139097</td>\n",
       "      <td>-0.055353</td>\n",
       "      <td>-0.059752</td>\n",
       "      <td>378.66</td>\n",
       "      <td>0</td>\n",
       "    </tr>\n",
       "    <tr>\n",
       "      <th>3</th>\n",
       "      <td>1.0</td>\n",
       "      <td>-0.966272</td>\n",
       "      <td>-0.185226</td>\n",
       "      <td>1.792993</td>\n",
       "      <td>-0.863291</td>\n",
       "      <td>-0.010309</td>\n",
       "      <td>1.247203</td>\n",
       "      <td>0.237609</td>\n",
       "      <td>0.377436</td>\n",
       "      <td>-1.387024</td>\n",
       "      <td>...</td>\n",
       "      <td>-0.108300</td>\n",
       "      <td>0.005274</td>\n",
       "      <td>-0.190321</td>\n",
       "      <td>-1.175575</td>\n",
       "      <td>0.647376</td>\n",
       "      <td>-0.221929</td>\n",
       "      <td>0.062723</td>\n",
       "      <td>0.061458</td>\n",
       "      <td>123.50</td>\n",
       "      <td>0</td>\n",
       "    </tr>\n",
       "    <tr>\n",
       "      <th>4</th>\n",
       "      <td>2.0</td>\n",
       "      <td>-1.158233</td>\n",
       "      <td>0.877737</td>\n",
       "      <td>1.548718</td>\n",
       "      <td>0.403034</td>\n",
       "      <td>-0.407193</td>\n",
       "      <td>0.095921</td>\n",
       "      <td>0.592941</td>\n",
       "      <td>-0.270533</td>\n",
       "      <td>0.817739</td>\n",
       "      <td>...</td>\n",
       "      <td>-0.009431</td>\n",
       "      <td>0.798278</td>\n",
       "      <td>-0.137458</td>\n",
       "      <td>0.141267</td>\n",
       "      <td>-0.206010</td>\n",
       "      <td>0.502292</td>\n",
       "      <td>0.219422</td>\n",
       "      <td>0.215153</td>\n",
       "      <td>69.99</td>\n",
       "      <td>0</td>\n",
       "    </tr>\n",
       "  </tbody>\n",
       "</table>\n",
       "<p>5 rows × 31 columns</p>\n",
       "</div>"
      ],
      "text/plain": [
       "   Time        V1        V2        V3        V4        V5        V6        V7  \\\n",
       "0   0.0 -1.359807 -0.072781  2.536347  1.378155 -0.338321  0.462388  0.239599   \n",
       "1   0.0  1.191857  0.266151  0.166480  0.448154  0.060018 -0.082361 -0.078803   \n",
       "2   1.0 -1.358354 -1.340163  1.773209  0.379780 -0.503198  1.800499  0.791461   \n",
       "3   1.0 -0.966272 -0.185226  1.792993 -0.863291 -0.010309  1.247203  0.237609   \n",
       "4   2.0 -1.158233  0.877737  1.548718  0.403034 -0.407193  0.095921  0.592941   \n",
       "\n",
       "         V8        V9  ...         V21       V22       V23       V24  \\\n",
       "0  0.098698  0.363787  ...   -0.018307  0.277838 -0.110474  0.066928   \n",
       "1  0.085102 -0.255425  ...   -0.225775 -0.638672  0.101288 -0.339846   \n",
       "2  0.247676 -1.514654  ...    0.247998  0.771679  0.909412 -0.689281   \n",
       "3  0.377436 -1.387024  ...   -0.108300  0.005274 -0.190321 -1.175575   \n",
       "4 -0.270533  0.817739  ...   -0.009431  0.798278 -0.137458  0.141267   \n",
       "\n",
       "        V25       V26       V27       V28  Amount  Class  \n",
       "0  0.128539 -0.189115  0.133558 -0.021053  149.62      0  \n",
       "1  0.167170  0.125895 -0.008983  0.014724    2.69      0  \n",
       "2 -0.327642 -0.139097 -0.055353 -0.059752  378.66      0  \n",
       "3  0.647376 -0.221929  0.062723  0.061458  123.50      0  \n",
       "4 -0.206010  0.502292  0.219422  0.215153   69.99      0  \n",
       "\n",
       "[5 rows x 31 columns]"
      ]
     },
     "execution_count": 1,
     "metadata": {},
     "output_type": "execute_result"
    }
   ],
   "source": [
    "import numpy as np\n",
    "import pandas as pd\n",
    "data = pd.read_csv('../data/fraud-prediction/creditcard.csv')\n",
    "data.head()"
   ]
  },
  {
   "cell_type": "code",
   "execution_count": 5,
   "metadata": {},
   "outputs": [
    {
     "data": {
      "text/plain": [
       "(284807, 31)"
      ]
     },
     "execution_count": 5,
     "metadata": {},
     "output_type": "execute_result"
    }
   ],
   "source": [
    "data.shape"
   ]
  },
  {
   "cell_type": "code",
   "execution_count": 6,
   "metadata": {
    "collapsed": true
   },
   "outputs": [],
   "source": [
    "features = data.columns[data.columns != 'Class']"
   ]
  },
  {
   "cell_type": "code",
   "execution_count": 7,
   "metadata": {
    "collapsed": true
   },
   "outputs": [],
   "source": [
    "from sklearn.model_selection import train_test_split\n",
    "X_train, X_test, y_train, y_test = train_test_split(data[features], data['Class'], \n",
    "                                                    test_size=0.2, random_state=42, stratify=data['Class'])"
   ]
  },
  {
   "cell_type": "code",
   "execution_count": 8,
   "metadata": {
    "collapsed": true
   },
   "outputs": [],
   "source": [
    "import sys\n",
    "sys.path.append('..')\n",
    "import warnings\n",
    "warnings.simplefilter('ignore')\n",
    "from experiment import Experiment\n",
    "from xgboost_experiment import XGBExperiment\n",
    "from lightgbm_experiment import LGBExperiment\n",
    "from catboost_experiment import CABExperiment"
   ]
  },
  {
   "cell_type": "code",
   "execution_count": 10,
   "metadata": {
    "collapsed": true
   },
   "outputs": [],
   "source": [
    "X_train, y_train, X_test, y_test, cat_cols = np.array(X_train), np.array(y_train), np.array(X_test), np.array(y_test), []"
   ]
  },
  {
   "cell_type": "code",
   "execution_count": 11,
   "metadata": {
    "collapsed": true
   },
   "outputs": [],
   "source": [
    "from sklearn.metrics import precision_recall_fscore_support, classification_report\n",
    "\n",
    "def run_default(Experiment, title, n_estimators):\n",
    "    \n",
    "    experiment = Experiment(learning_task, n_estimators)\n",
    "    cv_pairs, (dtrain, dtest), X_test_preprocessed = experiment.split_and_preprocess(X_train.copy(), y_train, \n",
    "                                                                X_test.copy(), y_test, \n",
    "                                                                cat_cols, n_splits=5)\n",
    " \n",
    "    default_cv_result = experiment.run_cv(cv_pairs)\n",
    "    experiment.print_result(default_cv_result, 'Default {} result on cv'.format(title))\n",
    "\n",
    "    print('\\n~~~~~~~~~~~~~~~~~~~~~~~~~~~~~~~~~~~~~~~~~~~~~~~~~~~~\\n')\n",
    "\n",
    "    default_test_losses = []\n",
    "    fscores = {0: [], 1: [], 'average': []}\n",
    "    durations = []\n",
    "    \n",
    "    for seed in range(5):\n",
    "        test_result = experiment.run_test(dtrain, dtest, X_test_preprocessed, params=default_cv_result['params'],\n",
    "                                          n_estimators=default_cv_result['best_n_estimators'], seed=seed)\n",
    "        default_test_losses.append(test_result['loss'])\n",
    "        preds, duration = test_result['preds'], test_result['eval_time']\n",
    "        labels = np.array([1 if p > 0.5 else 0 for p in preds])\n",
    "        metrics = precision_recall_fscore_support(y_test, labels)\n",
    "        for cl in xrange(2):\n",
    "            fscores[cl].append(metrics[2][cl])\n",
    "        fscores['average'].append(precision_recall_fscore_support(y_test, labels,  average='weighted')[2])\n",
    "        durations.append(duration)\n",
    "        \n",
    "        if seed == 4:\n",
    "            print '\\n', classification_report(y_test, labels)\n",
    "        \n",
    "        print 'For seed=%d Test\\'s %s : %.5f' % (seed, experiment.metric, default_test_losses[-1])\n",
    "    print '\\nTest\\'s %s mean: %.5f, Test\\'s %s std: %.5f' % (experiment.metric, np.mean(default_test_losses),\n",
    "                                                             experiment.metric, np.std(default_test_losses))\n",
    "    print '\\nMean f-score for class 0: {:.5f}\\nMean f-score for class 1: {:.5f}'.format(np.mean(fscores[0]), np.mean(fscores[1]))\n",
    "    print '\\nMean average f-score: {:.5f}'.format(np.mean(fscores['average']))\n",
    "                                  \n",
    "    print '\\n\\nDurations:\\n{}'.format(durations)\n",
    "    print 'Average runtime: {:.3f} sec'.format(np.mean(durations))\n",
    "    print('\\n~~~~~~~~~~~~~~~~~~~~~~~~~~~~~~~~~~~~~~~~~~~~~~~~~~~~\\n')\n",
    "    \n",
    "    return ([np.mean(default_test_losses)] + [np.mean(fscores[cl]) for cl in fscores.keys()] + \\\n",
    "            [np.mean(durations), default_cv_result['best_n_estimators']])"
   ]
  },
  {
   "cell_type": "code",
   "execution_count": 12,
   "metadata": {
    "collapsed": true
   },
   "outputs": [],
   "source": [
    "learning_task = 'classification'"
   ]
  },
  {
   "cell_type": "markdown",
   "metadata": {},
   "source": [
    "## XGBoost"
   ]
  },
  {
   "cell_type": "code",
   "execution_count": 14,
   "metadata": {},
   "outputs": [
    {
     "name": "stdout",
     "output_type": "stream",
     "text": [
      "Default XGBoost result on cv:\n",
      "\n",
      "logloss = 0.0026382\n",
      "best_n_estimators = 32\n",
      "params = {'colsample_bytree': 1.0, 'silent': 1, 'eval_metric': 'logloss', 'colsample_bylevel': 1.0, 'min_child_weight': 1, 'subsample': 1.0, 'eta': 0.3, 'objective': 'binary:logistic', 'alpha': 0, 'seed': 0, 'max_depth': 6, 'gamma': 0, 'lambda': 1}\n",
      "\n",
      "~~~~~~~~~~~~~~~~~~~~~~~~~~~~~~~~~~~~~~~~~~~~~~~~~~~~\n",
      "\n",
      "For seed=0 Test's logloss : 0.00237\n",
      "For seed=1 Test's logloss : 0.00237\n",
      "For seed=2 Test's logloss : 0.00237\n",
      "For seed=3 Test's logloss : 0.00237\n",
      "\n",
      "             precision    recall  f1-score   support\n",
      "\n",
      "          0       1.00      1.00      1.00     56864\n",
      "          1       0.92      0.81      0.86        98\n",
      "\n",
      "avg / total       1.00      1.00      1.00     56962\n",
      "\n",
      "For seed=4 Test's logloss : 0.00237\n",
      "\n",
      "Test's logloss mean: 0.00237, Test's logloss std: 0.00000\n",
      "\n",
      "Mean f-score for class 0: 0.99977\n",
      "Mean f-score for class 1: 0.85870\n",
      "\n",
      "Mean average f-score: 0.99953\n",
      "\n",
      "\n",
      "Durations:\n",
      "[6.012451887130737, 6.73032808303833, 6.548511028289795, 6.508924961090088, 5.9213011264801025]\n",
      "Average runtime: 6.344 sec\n",
      "\n",
      "~~~~~~~~~~~~~~~~~~~~~~~~~~~~~~~~~~~~~~~~~~~~~~~~~~~~\n",
      "\n",
      "CPU times: user 6min 30s, sys: 804 ms, total: 6min 31s\n",
      "Wall time: 1min 44s\n"
     ]
    }
   ],
   "source": [
    "%%time\n",
    "xgb_default_test_result = run_default(XGBExperiment, \"XGBoost\", n_estimators=100)"
   ]
  },
  {
   "cell_type": "markdown",
   "metadata": {},
   "source": [
    "## LightGBM"
   ]
  },
  {
   "cell_type": "code",
   "execution_count": 15,
   "metadata": {},
   "outputs": [
    {
     "name": "stdout",
     "output_type": "stream",
     "text": [
      "Default LightGBM result on cv:\n",
      "\n",
      "logloss = 0.00261191256798\n",
      "best_n_estimators = 100\n",
      "params = {'num_leaves': 127, 'verbose': -1, 'bagging_seed': 3, 'learning_rate': 0.1, 'data_random_seed': 1, 'min_data_in_leaf': 100, 'bagging_fraction': 1.0, 'metric': 'binary_logloss', 'feature_fraction_seed': 2, 'lambda_l1': 0, 'bagging_freq': 1, 'lambda_l2': 0, 'max_bin': 255, 'objective': 'binary', 'drop_seed': 4, 'min_sum_hessian_in_leaf': 10, 'feature_fraction': 1.0}\n",
      "\n",
      "~~~~~~~~~~~~~~~~~~~~~~~~~~~~~~~~~~~~~~~~~~~~~~~~~~~~\n",
      "\n",
      "For seed=0 Test's logloss : 0.00238\n",
      "For seed=1 Test's logloss : 0.00238\n",
      "For seed=2 Test's logloss : 0.00238\n",
      "For seed=3 Test's logloss : 0.00238\n",
      "\n",
      "             precision    recall  f1-score   support\n",
      "\n",
      "          0       1.00      1.00      1.00     56864\n",
      "          1       0.93      0.80      0.86        98\n",
      "\n",
      "avg / total       1.00      1.00      1.00     56962\n",
      "\n",
      "For seed=4 Test's logloss : 0.00238\n",
      "\n",
      "Test's logloss mean: 0.00238, Test's logloss std: 0.00000\n",
      "\n",
      "Mean f-score for class 0: 0.99977\n",
      "Mean f-score for class 1: 0.85714\n",
      "\n",
      "Mean average f-score: 0.99953\n",
      "\n",
      "\n",
      "Durations:\n",
      "[2.208251953125, 1.876939058303833, 1.9906861782073975, 1.8639161586761475, 1.8350331783294678]\n",
      "Average runtime: 1.955 sec\n",
      "\n",
      "~~~~~~~~~~~~~~~~~~~~~~~~~~~~~~~~~~~~~~~~~~~~~~~~~~~~\n",
      "\n",
      "CPU times: user 1min 20s, sys: 208 ms, total: 1min 21s\n",
      "Wall time: 21.9 s\n"
     ]
    }
   ],
   "source": [
    "%%time\n",
    "lgb_default_test_result = run_default(LGBExperiment, \"LightGBM\", n_estimators=100)"
   ]
  },
  {
   "cell_type": "markdown",
   "metadata": {},
   "source": [
    "## CatBoost"
   ]
  },
  {
   "cell_type": "code",
   "execution_count": 16,
   "metadata": {},
   "outputs": [
    {
     "name": "stdout",
     "output_type": "stream",
     "text": [
      "Default CatBoost result on cv:\n",
      "\n",
      "logloss = 0.0029524493682\n",
      "best_n_estimators = 100\n",
      "params = {'rsm': 1.0, 'random_seed': 0, 'verbose': False, 'learning_rate': 0.03, 'ctr_border_count': 16, 'ctr_description': ['Borders', 'Counter'], 'depth': 6, 'fold_len_multiplier': 2, 'loss_function': 'Logloss', 'iterations': 100, 'l2_leaf_reg': 3, 'leaf_estimation_method': 'Newton', 'gradient_iterations': 10, 'border_count': 128, 'used_ram_limit': 100000000000}\n",
      "\n",
      "~~~~~~~~~~~~~~~~~~~~~~~~~~~~~~~~~~~~~~~~~~~~~~~~~~~~\n",
      "\n",
      "For seed=0 Test's logloss : 0.00245\n",
      "For seed=1 Test's logloss : 0.00246\n",
      "For seed=2 Test's logloss : 0.00244\n",
      "For seed=3 Test's logloss : 0.00243\n",
      "\n",
      "             precision    recall  f1-score   support\n",
      "\n",
      "          0       1.00      1.00      1.00     56864\n",
      "          1       0.95      0.78      0.85        98\n",
      "\n",
      "avg / total       1.00      1.00      1.00     56962\n",
      "\n",
      "For seed=4 Test's logloss : 0.00248\n",
      "\n",
      "Test's logloss mean: 0.00245, Test's logloss std: 0.00002\n",
      "\n",
      "Mean f-score for class 0: 0.99977\n",
      "Mean f-score for class 1: 0.85455\n",
      "\n",
      "Mean average f-score: 0.99952\n",
      "\n",
      "\n",
      "Durations:\n",
      "[27.657510995864868, 27.51677894592285, 27.95583200454712, 28.36527705192566, 27.73368191719055]\n",
      "Average runtime: 27.846 sec\n",
      "\n",
      "~~~~~~~~~~~~~~~~~~~~~~~~~~~~~~~~~~~~~~~~~~~~~~~~~~~~\n",
      "\n",
      "CPU times: user 14min 24s, sys: 25.8 s, total: 14min 49s\n",
      "Wall time: 4min 9s\n"
     ]
    }
   ],
   "source": [
    "%%time\n",
    "cab_default_test_result = run_default(CABExperiment, \"CatBoost\", n_estimators=100)"
   ]
  },
  {
   "cell_type": "markdown",
   "metadata": {},
   "source": [
    "## Comparing"
   ]
  },
  {
   "cell_type": "code",
   "execution_count": 20,
   "metadata": {},
   "outputs": [
    {
     "data": {
      "text/html": [
       "<div>\n",
       "<style>\n",
       "    .dataframe thead tr:only-child th {\n",
       "        text-align: right;\n",
       "    }\n",
       "\n",
       "    .dataframe thead th {\n",
       "        text-align: left;\n",
       "    }\n",
       "\n",
       "    .dataframe tbody tr th {\n",
       "        vertical-align: top;\n",
       "    }\n",
       "</style>\n",
       "<table border=\"1\" class=\"dataframe\">\n",
       "  <thead>\n",
       "    <tr style=\"text-align: right;\">\n",
       "      <th></th>\n",
       "      <th>LogLoss</th>\n",
       "      <th>F-measure_Class0</th>\n",
       "      <th>F-measure_Class1</th>\n",
       "      <th>F-measure</th>\n",
       "      <th>MeanRuntime</th>\n",
       "      <th>NumberOfTrees</th>\n",
       "    </tr>\n",
       "  </thead>\n",
       "  <tbody>\n",
       "    <tr>\n",
       "      <th>Default CatBoost</th>\n",
       "      <td>0.00245</td>\n",
       "      <td>0.99977</td>\n",
       "      <td>0.85455</td>\n",
       "      <td>0.99952</td>\n",
       "      <td>27.84582</td>\n",
       "      <td>100</td>\n",
       "    </tr>\n",
       "    <tr>\n",
       "      <th>Default XGBoost</th>\n",
       "      <td>0.00237</td>\n",
       "      <td>0.99977</td>\n",
       "      <td>0.85870</td>\n",
       "      <td>0.99953</td>\n",
       "      <td>6.34430</td>\n",
       "      <td>32</td>\n",
       "    </tr>\n",
       "    <tr>\n",
       "      <th>Default LightGBM</th>\n",
       "      <td>0.00238</td>\n",
       "      <td>0.99977</td>\n",
       "      <td>0.85714</td>\n",
       "      <td>0.99953</td>\n",
       "      <td>1.95497</td>\n",
       "      <td>100</td>\n",
       "    </tr>\n",
       "  </tbody>\n",
       "</table>\n",
       "</div>"
      ],
      "text/plain": [
       "                  LogLoss  F-measure_Class0  F-measure_Class1  F-measure  \\\n",
       "Default CatBoost  0.00245           0.99977           0.85455    0.99952   \n",
       "Default XGBoost   0.00237           0.99977           0.85870    0.99953   \n",
       "Default LightGBM  0.00238           0.99977           0.85714    0.99953   \n",
       "\n",
       "                  MeanRuntime  NumberOfTrees  \n",
       "Default CatBoost     27.84582            100  \n",
       "Default XGBoost       6.34430             32  \n",
       "Default LightGBM      1.95497            100  "
      ]
     },
     "execution_count": 20,
     "metadata": {},
     "output_type": "execute_result"
    }
   ],
   "source": [
    "results = [\n",
    "    cab_default_test_result,\n",
    "    xgb_default_test_result,\n",
    "    lgb_default_test_result,\n",
    "]\n",
    "res_df = pd.DataFrame(np.array(results), \n",
    "                      columns=['LogLoss', 'F-measure_Class0', 'F-measure_Class1', 'F-measure', 'MeanRuntime', 'NumberOfTrees'], \n",
    "            index = ['Default CatBoost', 'Default XGBoost', 'Default LightGBM'],\n",
    "                     )\n",
    "res_df['NumberOfTrees'] = res_df['NumberOfTrees'].astype(int)\n",
    "res_df.round(5)"
   ]
  },
  {
   "cell_type": "code",
   "execution_count": 21,
   "metadata": {
    "collapsed": true
   },
   "outputs": [],
   "source": [
    "res_df.to_csv('../results/results_credits.csv')"
   ]
  },
  {
   "cell_type": "code",
   "execution_count": 23,
   "metadata": {},
   "outputs": [
    {
     "data": {
      "text/html": [
       "<div>\n",
       "<style>\n",
       "    .dataframe thead tr:only-child th {\n",
       "        text-align: right;\n",
       "    }\n",
       "\n",
       "    .dataframe thead th {\n",
       "        text-align: left;\n",
       "    }\n",
       "\n",
       "    .dataframe tbody tr th {\n",
       "        vertical-align: top;\n",
       "    }\n",
       "</style>\n",
       "<table border=\"1\" class=\"dataframe\">\n",
       "  <thead>\n",
       "    <tr style=\"text-align: right;\">\n",
       "      <th></th>\n",
       "      <th>LogLoss</th>\n",
       "      <th>F-measure_Class0</th>\n",
       "      <th>F-measure_Class1</th>\n",
       "      <th>F-measure</th>\n",
       "      <th>MeanRuntime</th>\n",
       "      <th>NumberOfTrees</th>\n",
       "    </tr>\n",
       "  </thead>\n",
       "  <tbody>\n",
       "    <tr>\n",
       "      <th>Default CatBoost</th>\n",
       "      <td>0.00245</td>\n",
       "      <td>0.99977</td>\n",
       "      <td>0.85455</td>\n",
       "      <td>0.99952</td>\n",
       "      <td>27.84582</td>\n",
       "      <td>100</td>\n",
       "    </tr>\n",
       "    <tr>\n",
       "      <th>Default XGBoost</th>\n",
       "      <td>0.00237</td>\n",
       "      <td>0.99977</td>\n",
       "      <td>0.85870</td>\n",
       "      <td>0.99953</td>\n",
       "      <td>6.34430</td>\n",
       "      <td>32</td>\n",
       "    </tr>\n",
       "    <tr>\n",
       "      <th>Default LightGBM</th>\n",
       "      <td>0.00238</td>\n",
       "      <td>0.99977</td>\n",
       "      <td>0.85714</td>\n",
       "      <td>0.99953</td>\n",
       "      <td>1.95497</td>\n",
       "      <td>100</td>\n",
       "    </tr>\n",
       "  </tbody>\n",
       "</table>\n",
       "</div>"
      ],
      "text/plain": [
       "                  LogLoss  F-measure_Class0  F-measure_Class1  F-measure  \\\n",
       "Default CatBoost  0.00245           0.99977           0.85455    0.99952   \n",
       "Default XGBoost   0.00237           0.99977           0.85870    0.99953   \n",
       "Default LightGBM  0.00238           0.99977           0.85714    0.99953   \n",
       "\n",
       "                  MeanRuntime  NumberOfTrees  \n",
       "Default CatBoost     27.84582            100  \n",
       "Default XGBoost       6.34430             32  \n",
       "Default LightGBM      1.95497            100  "
      ]
     },
     "execution_count": 23,
     "metadata": {},
     "output_type": "execute_result"
    }
   ],
   "source": [
    "res_df = pd.read_csv('../results/results_credits.csv', index_col=0)\n",
    "res_df.round(5)"
   ]
  },
  {
   "cell_type": "markdown",
   "metadata": {},
   "source": [
    "###### LogLoss"
   ]
  },
  {
   "cell_type": "code",
   "execution_count": 25,
   "metadata": {},
   "outputs": [
    {
     "data": {
      "image/png": "[encoded data removed]",
      "text/plain": [
       "<matplotlib.figure.Figure at 0x7f99a3323390>"
      ]
     },
     "metadata": {},
     "output_type": "display_data"
    }
   ],
   "source": [
    "%pylab inline\n",
    "import seaborn as sns\n",
    "\n",
    "names = ['%s\\n%.5f' % (name, loss) for name, loss in zip(res_df.index, res_df['LogLoss'])]\n",
    "\n",
    "plt.figure(figsize=(15,6))\n",
    "sns.set(font_scale=1.5)\n",
    "sns.set_style(\"whitegrid\")\n",
    "g = sns.barplot(x=res_df.index, y=\"LogLoss\", data=res_df, palette='Set2')\n",
    "g.set(ylim=(0.002, 0.0026), ylabel='LogLoss', title='Comparison: LogLoss')\n",
    "_ = g.set_xticklabels(names)"
   ]
  },
  {
   "cell_type": "markdown",
   "metadata": {},
   "source": [
    "###### F-measure for minority class"
   ]
  },
  {
   "cell_type": "code",
   "execution_count": 26,
   "metadata": {},
   "outputs": [
    {
     "data": {
      "image/png": "[encoded data removed]",
      "text/plain": [
       "<matplotlib.figure.Figure at 0x7f99a30a62d0>"
      ]
     },
     "metadata": {},
     "output_type": "display_data"
    }
   ],
   "source": [
    "names = ['%s\\n%.5f' % (name, loss) for name, loss in zip(res_df.index, res_df['F-measure_Class1'])]\n",
    "\n",
    "plt.figure(figsize=(15,6))\n",
    "sns.set(font_scale=1.5)\n",
    "sns.set_style(\"whitegrid\")\n",
    "g = sns.barplot(x=res_df.index, y=\"F-measure_Class1\", data=res_df, palette='Set2')\n",
    "g.set(ylim=(0.8, 0.88), ylabel='F-score', title='Comparison: F-score for class 1')\n",
    "_ = g.set_xticklabels(names)"
   ]
  },
  {
   "cell_type": "markdown",
   "metadata": {},
   "source": [
    "Очень осмысленный график."
   ]
  },
  {
   "cell_type": "markdown",
   "metadata": {},
   "source": [
    "##### Average runtime"
   ]
  },
  {
   "cell_type": "code",
   "execution_count": 27,
   "metadata": {},
   "outputs": [
    {
     "data": {
      "image/png": "[encoded data removed]",
      "text/plain": [
       "<matplotlib.figure.Figure at 0x7f99a0f134d0>"
      ]
     },
     "metadata": {},
     "output_type": "display_data"
    }
   ],
   "source": [
    "names = ['{}\\n{:.2f}\\n({} trees)'.format(name, loss, tree) for name, loss, tree in \n",
    "         zip(res_df.index, res_df['MeanRuntime'], res_df['NumberOfTrees'])]\n",
    "\n",
    "plt.figure(figsize=(15,6))\n",
    "sns.set(font_scale=1.5)\n",
    "sns.set_style(\"whitegrid\")\n",
    "g = sns.barplot(x=res_df.index, y=\"MeanRuntime\", data=res_df, palette='Set2')\n",
    "g.set(ylim=(0., 35), ylabel='Time (seconds)', title='Comparison: average runtime')\n",
    "_ = g.set_xticklabels(names)"
   ]
  },
  {
   "cell_type": "code",
   "execution_count": 28,
   "metadata": {},
   "outputs": [
    {
     "name": "stdout",
     "output_type": "stream",
     "text": [
      "\n",
      "\n",
      "In this task CatBoost is on average\n",
      "\n",
      "\t\t4.4 times slower than XGBoost \n",
      "\t\t14.2 times slower than LightGBM\n",
      "\n"
     ]
    }
   ],
   "source": [
    "print '\\n\\nIn this task CatBoost is on average\\n\\n\\t\\t{:.1f} times slower than XGBoost \\n\\t\\t{:.1f} times slower than LightGBM\\n'.format(\n",
    "    res_df['MeanRuntime'][0]/res_df['MeanRuntime'][1],\n",
    "    res_df['MeanRuntime'][0]/res_df['MeanRuntime'][2]\n",
    ")"
   ]
  },
  {
   "cell_type": "markdown",
   "metadata": {},
   "source": [
    "Пока что Кэтбуст проигрывает - дает чуть худшие результаты, и при этом работает в разы медленнее."
   ]
  },
  {
   "cell_type": "markdown",
   "metadata": {
    "collapsed": true
   },
   "source": [
    "#### Попробуем дать Кэтбусту второй шанс \n",
    "и увеличим максимальное число деревьев до пяти тысяч, как делал Яндекс"
   ]
  },
  {
   "cell_type": "markdown",
   "metadata": {},
   "source": [
    "## XGBoost"
   ]
  },
  {
   "cell_type": "code",
   "execution_count": 15,
   "metadata": {},
   "outputs": [
    {
     "name": "stdout",
     "output_type": "stream",
     "text": [
      "Default XGBoost result on cv:\n",
      "\n",
      "logloss = 0.0026382\n",
      "best_n_estimators = 32\n",
      "params = {'colsample_bytree': 1.0, 'silent': 1, 'eval_metric': 'logloss', 'colsample_bylevel': 1.0, 'min_child_weight': 1, 'subsample': 1.0, 'eta': 0.3, 'objective': 'binary:logistic', 'alpha': 0, 'seed': 0, 'max_depth': 6, 'gamma': 0, 'lambda': 1}\n",
      "\n",
      "~~~~~~~~~~~~~~~~~~~~~~~~~~~~~~~~~~~~~~~~~~~~~~~~~~~~\n",
      "\n",
      "For seed=0 Test's logloss : 0.00237\n",
      "For seed=1 Test's logloss : 0.00237\n",
      "For seed=2 Test's logloss : 0.00237\n",
      "For seed=3 Test's logloss : 0.00237\n",
      "\n",
      "             precision    recall  f1-score   support\n",
      "\n",
      "          0       1.00      1.00      1.00     56864\n",
      "          1       0.92      0.81      0.86        98\n",
      "\n",
      "avg / total       1.00      1.00      1.00     56962\n",
      "\n",
      "For seed=4 Test's logloss : 0.00237\n",
      "\n",
      "Test's logloss mean: 0.00237, Test's logloss std: 0.00000\n",
      "\n",
      "Mean f-score for class 0: 0.99977\n",
      "Mean f-score for class 1: 0.85870\n",
      "\n",
      "Mean average f-score: 0.99953\n",
      "\n",
      "\n",
      "Durations:\n",
      "[5.656154155731201, 5.520355939865112, 5.581625938415527, 5.506956100463867, 5.517082929611206]\n",
      "Average runtime: 5.556 sec\n",
      "\n",
      "~~~~~~~~~~~~~~~~~~~~~~~~~~~~~~~~~~~~~~~~~~~~~~~~~~~~\n",
      "\n",
      "CPU times: user 1h 4min 59s, sys: 4.96 s, total: 1h 5min 4s\n",
      "Wall time: 17min 9s\n"
     ]
    }
   ],
   "source": [
    "%%time\n",
    "xgb_result_moretrees = run_default(XGBExperiment, \"XGBoost\", n_estimators=5000)"
   ]
  },
  {
   "cell_type": "markdown",
   "metadata": {},
   "source": [
    "## LightXGB"
   ]
  },
  {
   "cell_type": "code",
   "execution_count": 32,
   "metadata": {},
   "outputs": [
    {
     "name": "stdout",
     "output_type": "stream",
     "text": [
      "Default LightGBM result on cv:\n",
      "\n",
      "logloss = 0.00251888688265\n",
      "best_n_estimators = 202\n",
      "params = {'num_leaves': 127, 'verbose': -1, 'bagging_seed': 3, 'learning_rate': 0.1, 'data_random_seed': 1, 'min_data_in_leaf': 100, 'bagging_fraction': 1.0, 'metric': 'binary_logloss', 'feature_fraction_seed': 2, 'lambda_l1': 0, 'bagging_freq': 1, 'lambda_l2': 0, 'max_bin': 255, 'objective': 'binary', 'drop_seed': 4, 'min_sum_hessian_in_leaf': 10, 'feature_fraction': 1.0}\n",
      "\n",
      "~~~~~~~~~~~~~~~~~~~~~~~~~~~~~~~~~~~~~~~~~~~~~~~~~~~~\n",
      "\n",
      "For seed=0 Test's logloss : 0.00236\n",
      "For seed=1 Test's logloss : 0.00236\n",
      "For seed=2 Test's logloss : 0.00236\n",
      "For seed=3 Test's logloss : 0.00236\n",
      "\n",
      "             precision    recall  f1-score   support\n",
      "\n",
      "          0       1.00      1.00      1.00     56864\n",
      "          1       0.92      0.81      0.86        98\n",
      "\n",
      "avg / total       1.00      1.00      1.00     56962\n",
      "\n",
      "For seed=4 Test's logloss : 0.00236\n",
      "\n",
      "Test's logloss mean: 0.00236, Test's logloss std: 0.00000\n",
      "\n",
      "Mean f-score for class 0: 0.99977\n",
      "Mean f-score for class 1: 0.85870\n",
      "\n",
      "Mean average f-score: 0.99953\n",
      "\n",
      "\n",
      "Durations:\n",
      "[3.4830269813537598, 2.994055986404419, 3.0093789100646973, 3.0213069915771484, 2.9918389320373535]\n",
      "Average runtime: 3.100 sec\n",
      "\n",
      "~~~~~~~~~~~~~~~~~~~~~~~~~~~~~~~~~~~~~~~~~~~~~~~~~~~~\n",
      "\n",
      "CPU times: user 11min 51s, sys: 2.3 s, total: 11min 53s\n",
      "Wall time: 3min 17s\n"
     ]
    }
   ],
   "source": [
    "%%time\n",
    "lgb_result_moretrees = run_default(LGBExperiment, \"LightGBM\", n_estimators=5000)"
   ]
  },
  {
   "cell_type": "markdown",
   "metadata": {},
   "source": [
    "## CatBoost"
   ]
  },
  {
   "cell_type": "code",
   "execution_count": 13,
   "metadata": {},
   "outputs": [
    {
     "name": "stdout",
     "output_type": "stream",
     "text": [
      "Default CatBoost result on cv:\n",
      "\n",
      "logloss = 0.002514291359\n",
      "best_n_estimators = 723\n",
      "params = {'rsm': 1.0, 'random_seed': 0, 'verbose': False, 'learning_rate': 0.03, 'ctr_border_count': 16, 'ctr_description': ['Borders', 'Counter'], 'depth': 6, 'fold_len_multiplier': 2, 'loss_function': 'Logloss', 'iterations': 5000, 'l2_leaf_reg': 3, 'leaf_estimation_method': 'Newton', 'gradient_iterations': 10, 'border_count': 128, 'used_ram_limit': 100000000000}\n",
      "\n",
      "~~~~~~~~~~~~~~~~~~~~~~~~~~~~~~~~~~~~~~~~~~~~~~~~~~~~\n",
      "\n",
      "For seed=0 Test's logloss : 0.00217\n",
      "For seed=1 Test's logloss : 0.00219\n",
      "For seed=2 Test's logloss : 0.00210\n",
      "For seed=3 Test's logloss : 0.00226\n",
      "\n",
      "             precision    recall  f1-score   support\n",
      "\n",
      "          0       1.00      1.00      1.00     56864\n",
      "          1       0.96      0.80      0.87        98\n",
      "\n",
      "avg / total       1.00      1.00      1.00     56962\n",
      "\n",
      "For seed=4 Test's logloss : 0.00219\n",
      "\n",
      "Test's logloss mean: 0.00218, Test's logloss std: 0.00005\n",
      "\n",
      "Mean f-score for class 0: 0.99979\n",
      "Mean f-score for class 1: 0.86792\n",
      "\n",
      "Mean average f-score: 0.99956\n",
      "\n",
      "\n",
      "Durations:\n",
      "[88.17218089103699, 88.1495590209961, 89.01733493804932, 87.03245615959167, 89.03673076629639]\n",
      "Average runtime: 88.282 sec\n",
      "\n",
      "~~~~~~~~~~~~~~~~~~~~~~~~~~~~~~~~~~~~~~~~~~~~~~~~~~~~\n",
      "\n",
      "CPU times: user 2h 1min 55s, sys: 4min 56s, total: 2h 6min 51s\n",
      "Wall time: 35min 43s\n"
     ]
    }
   ],
   "source": [
    "%%time\n",
    "cab_result_moretrees = run_default(CABExperiment, \"CatBoost\", n_estimators=5000)"
   ]
  },
  {
   "cell_type": "code",
   "execution_count": 33,
   "metadata": {},
   "outputs": [
    {
     "data": {
      "text/html": [
       "<div>\n",
       "<style>\n",
       "    .dataframe thead tr:only-child th {\n",
       "        text-align: right;\n",
       "    }\n",
       "\n",
       "    .dataframe thead th {\n",
       "        text-align: left;\n",
       "    }\n",
       "\n",
       "    .dataframe tbody tr th {\n",
       "        vertical-align: top;\n",
       "    }\n",
       "</style>\n",
       "<table border=\"1\" class=\"dataframe\">\n",
       "  <thead>\n",
       "    <tr style=\"text-align: right;\">\n",
       "      <th></th>\n",
       "      <th>LogLoss</th>\n",
       "      <th>F-measure_Class0</th>\n",
       "      <th>F-measure_Class1</th>\n",
       "      <th>F-measure</th>\n",
       "      <th>MeanRuntime</th>\n",
       "      <th>NumberOfTrees</th>\n",
       "    </tr>\n",
       "  </thead>\n",
       "  <tbody>\n",
       "    <tr>\n",
       "      <th>Default CatBoost</th>\n",
       "      <td>0.00218</td>\n",
       "      <td>0.99979</td>\n",
       "      <td>0.86792</td>\n",
       "      <td>0.99956</td>\n",
       "      <td>88.28165</td>\n",
       "      <td>723</td>\n",
       "    </tr>\n",
       "    <tr>\n",
       "      <th>Default XGBoost</th>\n",
       "      <td>0.00237</td>\n",
       "      <td>0.99977</td>\n",
       "      <td>0.85870</td>\n",
       "      <td>0.99953</td>\n",
       "      <td>5.55644</td>\n",
       "      <td>32</td>\n",
       "    </tr>\n",
       "    <tr>\n",
       "      <th>Default LightGBM</th>\n",
       "      <td>0.00236</td>\n",
       "      <td>0.99977</td>\n",
       "      <td>0.85870</td>\n",
       "      <td>0.99953</td>\n",
       "      <td>3.09992</td>\n",
       "      <td>202</td>\n",
       "    </tr>\n",
       "  </tbody>\n",
       "</table>\n",
       "</div>"
      ],
      "text/plain": [
       "                  LogLoss  F-measure_Class0  F-measure_Class1  F-measure  \\\n",
       "Default CatBoost  0.00218           0.99979           0.86792    0.99956   \n",
       "Default XGBoost   0.00237           0.99977           0.85870    0.99953   \n",
       "Default LightGBM  0.00236           0.99977           0.85870    0.99953   \n",
       "\n",
       "                  MeanRuntime  NumberOfTrees  \n",
       "Default CatBoost     88.28165            723  \n",
       "Default XGBoost       5.55644             32  \n",
       "Default LightGBM      3.09992            202  "
      ]
     },
     "execution_count": 33,
     "metadata": {},
     "output_type": "execute_result"
    }
   ],
   "source": [
    "results_moretrees = [\n",
    "    cab_result_moretrees,\n",
    "    xgb_result_moretrees,\n",
    "    lgb_result_moretrees,\n",
    "]\n",
    "more_df = pd.DataFrame(np.array(results_moretrees), \n",
    "                      columns=['LogLoss', 'F-measure_Class0', 'F-measure_Class1', 'F-measure',\n",
    "                               'MeanRuntime', 'NumberOfTrees'], \n",
    "            index = ['Default CatBoost', 'Default XGBoost', 'Default LightGBM']\n",
    "                      )\n",
    "more_df['NumberOfTrees'] = more_df['NumberOfTrees'].astype(int)\n",
    "more_df.round(5)"
   ]
  },
  {
   "cell_type": "code",
   "execution_count": 34,
   "metadata": {
    "collapsed": true
   },
   "outputs": [],
   "source": [
    "more_df.to_csv('../results/results_credits_moretrees.csv')"
   ]
  },
  {
   "cell_type": "code",
   "execution_count": 19,
   "metadata": {},
   "outputs": [],
   "source": [
    "#more_df = pd.read_csv('../results/results_credits_moretrees.csv', index_col=0)\n",
    "#more_df.round(5)"
   ]
  },
  {
   "cell_type": "markdown",
   "metadata": {},
   "source": [
    "###### LogLoss"
   ]
  },
  {
   "cell_type": "code",
   "execution_count": 35,
   "metadata": {},
   "outputs": [
    {
     "data": {
      "image/png": "[encoded data removed]",
      "text/plain": [
       "<matplotlib.figure.Figure at 0x7f7c12e44fd0>"
      ]
     },
     "metadata": {},
     "output_type": "display_data"
    }
   ],
   "source": [
    "names = ['%s\\n%.5f' % (name, loss) for name, loss in zip(more_df.index, more_df['LogLoss'])]\n",
    "\n",
    "plt.figure(figsize=(15,6))\n",
    "sns.set(font_scale=1.5)\n",
    "sns.set_style(\"whitegrid\")\n",
    "g = sns.barplot(x=more_df.index, y=\"LogLoss\", data=more_df, palette='Set2')\n",
    "g.set(ylim=(0.002, 0.003), ylabel='LogLoss', title='Comparison: LogLoss')\n",
    "_ = g.set_xticklabels(names)"
   ]
  },
  {
   "cell_type": "markdown",
   "metadata": {},
   "source": [
    "###### F-measure for minority class"
   ]
  },
  {
   "cell_type": "code",
   "execution_count": 28,
   "metadata": {},
   "outputs": [
    {
     "data": {
      "image/png": "[encoded data removed]",
      "text/plain": [
       "<matplotlib.figure.Figure at 0x7f7c1312e690>"
      ]
     },
     "metadata": {},
     "output_type": "display_data"
    }
   ],
   "source": [
    "names = ['%s\\n%.5f' % (name, loss) for name, loss in zip(more_df.index, more_df['F-measure_Class1'])]\n",
    "\n",
    "plt.figure(figsize=(15,6))\n",
    "sns.set(font_scale=1.5)\n",
    "sns.set_style(\"whitegrid\")\n",
    "g = sns.barplot(x=more_df.index, y=\"F-measure_Class1\", data=more_df, palette='Set2')\n",
    "g.set(ylim=(0.8, 0.9), ylabel='F-score', title='Comparison: F-score for class 1')\n",
    "_ = g.set_xticklabels(names)"
   ]
  },
  {
   "cell_type": "markdown",
   "metadata": {},
   "source": [
    "##### Average runtime"
   ]
  },
  {
   "cell_type": "code",
   "execution_count": 37,
   "metadata": {},
   "outputs": [
    {
     "data": {
      "image/png": "[encoded data removed]",
      "text/plain": [
       "<matplotlib.figure.Figure at 0x7f7c12d06a90>"
      ]
     },
     "metadata": {},
     "output_type": "display_data"
    }
   ],
   "source": [
    "names = ['{}\\n{:.2f}\\n({} trees)'.format(name, loss, tree) for name, loss, tree in \n",
    "         zip(more_df.index, more_df['MeanRuntime'], more_df['NumberOfTrees'])]\n",
    "\n",
    "plt.figure(figsize=(15,8))\n",
    "sns.set(font_scale=1.5)\n",
    "sns.set_style(\"whitegrid\")\n",
    "g = sns.barplot(x=more_df.index, y=\"MeanRuntime\", data=more_df, palette='Set2')\n",
    "g.set(ylim=(0., 100), ylabel='Time (seconds)', title='Comparison: average runtime')\n",
    "_ = g.set_xticklabels(names)"
   ]
  }
 ],
 "metadata": {
  "kernelspec": {
   "display_name": "Python [conda env:py2]",
   "language": "python",
   "name": "conda-env-py2-py"
  },
  "language_info": {
   "codemirror_mode": {
    "name": "ipython",
    "version": 2
   },
   "file_extension": ".py",
   "mimetype": "text/x-python",
   "name": "python",
   "nbconvert_exporter": "python",
   "pygments_lexer": "ipython2",
   "version": "2.7.13"
  }
 },
 "nbformat": 4,
 "nbformat_minor": 2
}
