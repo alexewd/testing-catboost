{
 "cells": [
  {
   "cell_type": "markdown",
   "metadata": {},
   "source": [
    "# Sentiment analysis of IMDB reviews"
   ]
  },
  {
   "cell_type": "markdown",
   "metadata": {},
   "source": [
    "https://www.kaggle.com/c/word2vec-nlp-tutorial/data\n",
    "\n",
    "The dataset contains 25000 IMDB movie reviews. The sentiment of reviews is binary, meaning the IMDB rating < 5 results in a sentiment score of 0, and rating >=7 have a sentiment score of 1. No individual movie has more than 30 reviews. "
   ]
  },
  {
   "cell_type": "code",
   "execution_count": 2,
   "metadata": {},
   "outputs": [
    {
     "data": {
      "text/html": [
       "<div>\n",
       "<style>\n",
       "    .dataframe thead tr:only-child th {\n",
       "        text-align: right;\n",
       "    }\n",
       "\n",
       "    .dataframe thead th {\n",
       "        text-align: left;\n",
       "    }\n",
       "\n",
       "    .dataframe tbody tr th {\n",
       "        vertical-align: top;\n",
       "    }\n",
       "</style>\n",
       "<table border=\"1\" class=\"dataframe\">\n",
       "  <thead>\n",
       "    <tr style=\"text-align: right;\">\n",
       "      <th></th>\n",
       "      <th>id</th>\n",
       "      <th>sentiment</th>\n",
       "      <th>review</th>\n",
       "    </tr>\n",
       "  </thead>\n",
       "  <tbody>\n",
       "    <tr>\n",
       "      <th>0</th>\n",
       "      <td>5814_8</td>\n",
       "      <td>1</td>\n",
       "      <td>With all this stuff going down at the moment w...</td>\n",
       "    </tr>\n",
       "    <tr>\n",
       "      <th>1</th>\n",
       "      <td>2381_9</td>\n",
       "      <td>1</td>\n",
       "      <td>\\The Classic War of the Worlds\\\" by Timothy Hi...</td>\n",
       "    </tr>\n",
       "    <tr>\n",
       "      <th>2</th>\n",
       "      <td>7759_3</td>\n",
       "      <td>0</td>\n",
       "      <td>The film starts with a manager (Nicholas Bell)...</td>\n",
       "    </tr>\n",
       "    <tr>\n",
       "      <th>3</th>\n",
       "      <td>3630_4</td>\n",
       "      <td>0</td>\n",
       "      <td>It must be assumed that those who praised this...</td>\n",
       "    </tr>\n",
       "    <tr>\n",
       "      <th>4</th>\n",
       "      <td>9495_8</td>\n",
       "      <td>1</td>\n",
       "      <td>Superbly trashy and wondrously unpretentious 8...</td>\n",
       "    </tr>\n",
       "  </tbody>\n",
       "</table>\n",
       "</div>"
      ],
      "text/plain": [
       "       id  sentiment                                             review\n",
       "0  5814_8          1  With all this stuff going down at the moment w...\n",
       "1  2381_9          1  \\The Classic War of the Worlds\\\" by Timothy Hi...\n",
       "2  7759_3          0  The film starts with a manager (Nicholas Bell)...\n",
       "3  3630_4          0  It must be assumed that those who praised this...\n",
       "4  9495_8          1  Superbly trashy and wondrously unpretentious 8..."
      ]
     },
     "execution_count": 2,
     "metadata": {},
     "output_type": "execute_result"
    }
   ],
   "source": [
    "import pandas as pd\n",
    "import numpy as np\n",
    "data = pd.read_csv('../data/reviews/labeledTrainData.tsv', sep='\\t')\n",
    "data.head()"
   ]
  },
  {
   "cell_type": "code",
   "execution_count": 3,
   "metadata": {},
   "outputs": [
    {
     "data": {
      "text/plain": [
       "1    12500\n",
       "0    12500\n",
       "Name: sentiment, dtype: int64"
      ]
     },
     "execution_count": 3,
     "metadata": {},
     "output_type": "execute_result"
    }
   ],
   "source": [
    "data['sentiment'].value_counts()"
   ]
  },
  {
   "cell_type": "code",
   "execution_count": 4,
   "metadata": {
    "collapsed": true
   },
   "outputs": [],
   "source": [
    "from sklearn.model_selection import train_test_split\n",
    "X_train, X_test, y_train, y_test = train_test_split(data['review'], data['sentiment'], \n",
    "                                                    test_size=0.2, random_state=42, stratify=data['sentiment'])"
   ]
  },
  {
   "cell_type": "code",
   "execution_count": 5,
   "metadata": {
    "collapsed": true
   },
   "outputs": [],
   "source": [
    "from sklearn.linear_model import LogisticRegression\n",
    "from sklearn.feature_extraction.text import HashingVectorizer\n",
    "from sklearn.feature_extraction.text import TfidfVectorizer"
   ]
  },
  {
   "cell_type": "code",
   "execution_count": 6,
   "metadata": {},
   "outputs": [
    {
     "data": {
      "text/plain": [
       "(20000, 5000)"
      ]
     },
     "execution_count": 6,
     "metadata": {},
     "output_type": "execute_result"
    }
   ],
   "source": [
    "vectorizer = HashingVectorizer(stop_words='english', n_features = 5000)\n",
    "X_train_bag = vectorizer.fit_transform(X_train)\n",
    "X_train_bag.shape"
   ]
  },
  {
   "cell_type": "code",
   "execution_count": 7,
   "metadata": {
    "collapsed": true
   },
   "outputs": [],
   "source": [
    "X_test_bag = vectorizer.transform(X_test)"
   ]
  },
  {
   "cell_type": "code",
   "execution_count": 8,
   "metadata": {},
   "outputs": [
    {
     "data": {
      "text/plain": [
       "LogisticRegression(C=1.0, class_weight=None, dual=False, fit_intercept=True,\n",
       "          intercept_scaling=1, max_iter=100, multi_class='ovr', n_jobs=1,\n",
       "          penalty='l2', random_state=None, solver='liblinear', tol=0.0001,\n",
       "          verbose=0, warm_start=False)"
      ]
     },
     "execution_count": 8,
     "metadata": {},
     "output_type": "execute_result"
    }
   ],
   "source": [
    "clf = LogisticRegression()\n",
    "clf.fit(X_train_bag, y_train)"
   ]
  },
  {
   "cell_type": "code",
   "execution_count": 9,
   "metadata": {},
   "outputs": [
    {
     "name": "stdout",
     "output_type": "stream",
     "text": [
      "             precision    recall  f1-score   support\n",
      "\n",
      "          0       0.83      0.86      0.84      2420\n",
      "          1       0.86      0.83      0.85      2580\n",
      "\n",
      "avg / total       0.85      0.85      0.85      5000\n",
      "\n"
     ]
    }
   ],
   "source": [
    "from sklearn.metrics import classification_report\n",
    "print classification_report(clf.predict(X_test_bag), y_test)"
   ]
  },
  {
   "cell_type": "markdown",
   "metadata": {},
   "source": [
    "Результат логита вполне себе - значит, 5000 фичей в принципе достаточно, так и оставим."
   ]
  },
  {
   "cell_type": "code",
   "execution_count": 10,
   "metadata": {
    "collapsed": true
   },
   "outputs": [],
   "source": [
    "import sys\n",
    "sys.path.append('..')\n",
    "import warnings\n",
    "warnings.simplefilter('ignore')\n",
    "from experiment import Experiment\n",
    "from xgboost_experiment import XGBExperiment\n",
    "from lightgbm_experiment import LGBExperiment\n",
    "from catboost_experiment import CABExperiment"
   ]
  },
  {
   "cell_type": "code",
   "execution_count": 11,
   "metadata": {
    "collapsed": true
   },
   "outputs": [],
   "source": [
    "X_train, y_train, X_test, y_test, cat_cols = X_train_bag.toarray(), np.array(y_train), X_test_bag.toarray(), np.array(y_test), []"
   ]
  },
  {
   "cell_type": "code",
   "execution_count": 12,
   "metadata": {
    "collapsed": true
   },
   "outputs": [],
   "source": [
    "from sklearn.metrics import precision_recall_fscore_support\n",
    "\n",
    "def run_default(Experiment, title, n_estimators):\n",
    "    experiment = Experiment(learning_task,\n",
    "                            n_estimators=n_estimators)\n",
    "    cv_pairs, (dtrain, dtest), X_test_preprocessed = experiment.split_and_preprocess(X_train.copy(), y_train, \n",
    "                                                                X_test.copy(), y_test, \n",
    "                                                                cat_cols, n_splits=5)\n",
    " \n",
    "    default_cv_result = experiment.run_cv(cv_pairs)\n",
    "    experiment.print_result(default_cv_result, 'Default {} result on cv'.format(title))\n",
    "\n",
    "    print('\\n~~~~~~~~~~~~~~~~~~~~~~~~~~~~~~~~~~~~~~~~~~~~~~~~~~~~\\n')\n",
    "\n",
    "    default_test_losses = []\n",
    "    fscores = {0: [], 1: [], 'average': []}\n",
    "    durations = []\n",
    "    \n",
    "    for seed in range(5):\n",
    "        \n",
    "        test_result = experiment.run_test(dtrain, dtest, X_test_preprocessed, params=default_cv_result['params'],\n",
    "                                          n_estimators=default_cv_result['best_n_estimators'], seed=seed)\n",
    "        default_test_losses.append(test_result['loss'])\n",
    "        preds, duration = test_result['preds'], test_result['eval_time']\n",
    "        labels = np.array([1 if p > 0.5 else 0 for p in preds])\n",
    "        metrics = precision_recall_fscore_support(y_test, labels)\n",
    "        for cl in xrange(2):\n",
    "            fscores[cl].append(metrics[2][cl])\n",
    "        fscores['average'].append(precision_recall_fscore_support(y_test, labels,  average='weighted')[2])\n",
    "        durations.append(duration)\n",
    "        \n",
    "        if seed == 4:\n",
    "            print '\\n', classification_report(y_test, labels)\n",
    "        \n",
    "        print 'For seed=%d Test\\'s %s : %.5f' % (seed, experiment.metric, default_test_losses[-1])\n",
    "    print '\\nTest\\'s %s mean: %.5f, Test\\'s %s std: %.5f' % (experiment.metric, np.mean(default_test_losses),\n",
    "                                                             experiment.metric, np.std(default_test_losses))\n",
    "    print '\\nMean f-score for class 0: {:.5f}\\nMean f-score for class 1: {:.5f}'.format(np.mean(fscores[0]), np.mean(fscores[1]))\n",
    "    print '\\nMean average f-score: {:.5f}'.format(np.mean(fscores['average']))\n",
    "                                                                            \n",
    "    print '\\n\\nDurations:\\n{}'.format(durations)\n",
    "    print 'Average runtime: {:.3f} sec'.format(np.mean(durations))\n",
    "    print('\\n~~~~~~~~~~~~~~~~~~~~~~~~~~~~~~~~~~~~~~~~~~~~~~~~~~~~\\n')\n",
    "    \n",
    "    return ([np.mean(default_test_losses)] + [np.mean(fscores[cl]) for cl in fscores.keys()] + \\\n",
    "            [np.mean(durations), default_cv_result['best_n_estimators']])"
   ]
  },
  {
   "cell_type": "code",
   "execution_count": 13,
   "metadata": {
    "collapsed": true
   },
   "outputs": [],
   "source": [
    "learning_task = 'classification'"
   ]
  },
  {
   "cell_type": "markdown",
   "metadata": {},
   "source": [
    "## XGBoost"
   ]
  },
  {
   "cell_type": "code",
   "execution_count": 13,
   "metadata": {},
   "outputs": [
    {
     "name": "stdout",
     "output_type": "stream",
     "text": [
      "Default XGBoost result on cv:\n",
      "\n",
      "logloss = 0.3785286\n",
      "best_n_estimators = 100\n",
      "params = {'colsample_bytree': 1.0, 'silent': 1, 'eval_metric': 'logloss', 'colsample_bylevel': 1.0, 'min_child_weight': 1, 'subsample': 1.0, 'eta': 0.3, 'objective': 'binary:logistic', 'alpha': 0, 'seed': 0, 'max_depth': 6, 'gamma': 0, 'lambda': 1}\n",
      "\n",
      "~~~~~~~~~~~~~~~~~~~~~~~~~~~~~~~~~~~~~~~~~~~~~~~~~~~~\n",
      "\n",
      "For seed=0 Test's logloss : 0.37462\n",
      "For seed=1 Test's logloss : 0.37462\n",
      "For seed=2 Test's logloss : 0.37462\n",
      "For seed=3 Test's logloss : 0.37462\n",
      "\n",
      "             precision    recall  f1-score   support\n",
      "\n",
      "          0       0.85      0.81      0.83      2500\n",
      "          1       0.82      0.86      0.84      2500\n",
      "\n",
      "avg / total       0.84      0.83      0.83      5000\n",
      "\n",
      "For seed=4 Test's logloss : 0.37462\n",
      "\n",
      "Test's logloss mean: 0.37462, Test's logloss std: 0.00000\n",
      "\n",
      "Mean f-score for class 0: 0.83035\n",
      "Mean f-score for class 1: 0.83940\n",
      "\n",
      "Mean average f-score: 0.83488\n",
      "\n",
      "\n",
      "Durations:\n",
      "[62.696017026901245, 62.341416120529175, 64.2494969367981, 62.33407402038574, 68.32185387611389]\n",
      "Average runtime: 63.989 sec\n",
      "\n",
      "~~~~~~~~~~~~~~~~~~~~~~~~~~~~~~~~~~~~~~~~~~~~~~~~~~~~\n",
      "\n",
      "CPU times: user 36min 57s, sys: 4.23 s, total: 37min 1s\n",
      "Wall time: 9min 34s\n"
     ]
    }
   ],
   "source": [
    "%%time\n",
    "xgb_default_test_result = run_default(XGBExperiment, \"XGBoost\", n_estimators=100)"
   ]
  },
  {
   "cell_type": "markdown",
   "metadata": {},
   "source": [
    "## LightGBM"
   ]
  },
  {
   "cell_type": "code",
   "execution_count": 15,
   "metadata": {},
   "outputs": [
    {
     "name": "stdout",
     "output_type": "stream",
     "text": [
      "Default LightGBM result on cv:\n",
      "\n",
      "logloss = 0.356826009628\n",
      "best_n_estimators = 100\n",
      "params = {'num_leaves': 127, 'verbose': -1, 'bagging_seed': 3, 'learning_rate': 0.1, 'data_random_seed': 1, 'min_data_in_leaf': 100, 'bagging_fraction': 1.0, 'metric': 'binary_logloss', 'feature_fraction_seed': 2, 'lambda_l1': 0, 'bagging_freq': 1, 'lambda_l2': 0, 'max_bin': 255, 'objective': 'binary', 'drop_seed': 4, 'min_sum_hessian_in_leaf': 10, 'feature_fraction': 1.0}\n",
      "\n",
      "~~~~~~~~~~~~~~~~~~~~~~~~~~~~~~~~~~~~~~~~~~~~~~~~~~~~\n",
      "\n",
      "For seed=0 Test's logloss : 0.34905\n",
      "For seed=1 Test's logloss : 0.34905\n",
      "For seed=2 Test's logloss : 0.34905\n",
      "For seed=3 Test's logloss : 0.34905\n",
      "\n",
      "             precision    recall  f1-score   support\n",
      "\n",
      "          0       0.85      0.84      0.84      2500\n",
      "          1       0.84      0.85      0.85      2500\n",
      "\n",
      "avg / total       0.85      0.85      0.85      5000\n",
      "\n",
      "For seed=4 Test's logloss : 0.34905\n",
      "\n",
      "Test's logloss mean: 0.34905, Test's logloss std: 0.00000\n",
      "\n",
      "Mean f-score for class 0: 0.84435\n",
      "Mean f-score for class 1: 0.84683\n",
      "\n",
      "Mean average f-score: 0.84559\n",
      "\n",
      "\n",
      "Durations:\n",
      "[21.266499996185303, 15.655277013778687, 15.310544967651367, 14.900305986404419, 15.250075101852417]\n",
      "Average runtime: 16.477 sec\n",
      "\n",
      "~~~~~~~~~~~~~~~~~~~~~~~~~~~~~~~~~~~~~~~~~~~~~~~~~~~~\n",
      "\n",
      "CPU times: user 9min 22s, sys: 3.07 s, total: 9min 26s\n",
      "Wall time: 2min 28s\n"
     ]
    }
   ],
   "source": [
    "%%time\n",
    "lgb_default_test_result = run_default(LGBExperiment, \"LightGBM\", n_estimators=100)"
   ]
  },
  {
   "cell_type": "markdown",
   "metadata": {},
   "source": [
    "## CatBoost"
   ]
  },
  {
   "cell_type": "code",
   "execution_count": 16,
   "metadata": {},
   "outputs": [
    {
     "name": "stdout",
     "output_type": "stream",
     "text": [
      "Default CatBoost result on cv:\n",
      "\n",
      "logloss = 0.51244261408\n",
      "best_n_estimators = 100\n",
      "params = {'rsm': 1.0, 'random_seed': 0, 'verbose': False, 'learning_rate': 0.03, 'ctr_border_count': 16, 'ctr_description': ['Borders', 'Counter'], 'depth': 6, 'fold_len_multiplier': 2, 'loss_function': 'Logloss', 'iterations': 100, 'l2_leaf_reg': 3, 'leaf_estimation_method': 'Newton', 'gradient_iterations': 10, 'border_count': 128, 'used_ram_limit': 100000000000}\n",
      "\n",
      "~~~~~~~~~~~~~~~~~~~~~~~~~~~~~~~~~~~~~~~~~~~~~~~~~~~~\n",
      "\n",
      "For seed=0 Test's logloss : 0.50829\n",
      "For seed=1 Test's logloss : 0.50940\n",
      "For seed=2 Test's logloss : 0.50935\n",
      "For seed=3 Test's logloss : 0.50904\n",
      "\n",
      "             precision    recall  f1-score   support\n",
      "\n",
      "          0       0.83      0.69      0.75      2500\n",
      "          1       0.73      0.86      0.79      2500\n",
      "\n",
      "avg / total       0.78      0.77      0.77      5000\n",
      "\n",
      "For seed=4 Test's logloss : 0.50908\n",
      "\n",
      "Test's logloss mean: 0.50903, Test's logloss std: 0.00040\n",
      "\n",
      "Mean f-score for class 0: 0.75104\n",
      "Mean f-score for class 1: 0.79194\n",
      "\n",
      "Mean average f-score: 0.77149\n",
      "\n",
      "\n",
      "Durations:\n",
      "[127.95072412490845, 130.54166507720947, 137.884428024292, 145.2305200099945, 133.37636995315552]\n",
      "Average runtime: 134.997 sec\n",
      "\n",
      "~~~~~~~~~~~~~~~~~~~~~~~~~~~~~~~~~~~~~~~~~~~~~~~~~~~~\n",
      "\n",
      "CPU times: user 1h 17min 9s, sys: 14.3 s, total: 1h 17min 23s\n",
      "Wall time: 21min 15s\n"
     ]
    }
   ],
   "source": [
    "%%time\n",
    "cab_default_test_result = run_default(CABExperiment, \"CatBoost\", n_estimators=100)"
   ]
  },
  {
   "cell_type": "markdown",
   "metadata": {},
   "source": [
    "## Comparing"
   ]
  },
  {
   "cell_type": "code",
   "execution_count": 18,
   "metadata": {},
   "outputs": [
    {
     "data": {
      "text/html": [
       "<div>\n",
       "<style>\n",
       "    .dataframe thead tr:only-child th {\n",
       "        text-align: right;\n",
       "    }\n",
       "\n",
       "    .dataframe thead th {\n",
       "        text-align: left;\n",
       "    }\n",
       "\n",
       "    .dataframe tbody tr th {\n",
       "        vertical-align: top;\n",
       "    }\n",
       "</style>\n",
       "<table border=\"1\" class=\"dataframe\">\n",
       "  <thead>\n",
       "    <tr style=\"text-align: right;\">\n",
       "      <th></th>\n",
       "      <th>LogLoss</th>\n",
       "      <th>F-measure_Class0</th>\n",
       "      <th>F-measure_Class1</th>\n",
       "      <th>F-measure</th>\n",
       "      <th>MeanRuntime</th>\n",
       "      <th>NumberOfTrees</th>\n",
       "    </tr>\n",
       "  </thead>\n",
       "  <tbody>\n",
       "    <tr>\n",
       "      <th>Default CatBoost</th>\n",
       "      <td>0.50903</td>\n",
       "      <td>0.75104</td>\n",
       "      <td>0.79194</td>\n",
       "      <td>0.77149</td>\n",
       "      <td>134.99674</td>\n",
       "      <td>100</td>\n",
       "    </tr>\n",
       "    <tr>\n",
       "      <th>Default XGBoost</th>\n",
       "      <td>0.37462</td>\n",
       "      <td>0.83035</td>\n",
       "      <td>0.83940</td>\n",
       "      <td>0.83488</td>\n",
       "      <td>65.03421</td>\n",
       "      <td>100</td>\n",
       "    </tr>\n",
       "    <tr>\n",
       "      <th>Default LightGBM</th>\n",
       "      <td>0.34905</td>\n",
       "      <td>0.84435</td>\n",
       "      <td>0.84683</td>\n",
       "      <td>0.84559</td>\n",
       "      <td>16.47654</td>\n",
       "      <td>100</td>\n",
       "    </tr>\n",
       "  </tbody>\n",
       "</table>\n",
       "</div>"
      ],
      "text/plain": [
       "                  LogLoss  F-measure_Class0  F-measure_Class1  F-measure  \\\n",
       "Default CatBoost  0.50903           0.75104           0.79194    0.77149   \n",
       "Default XGBoost   0.37462           0.83035           0.83940    0.83488   \n",
       "Default LightGBM  0.34905           0.84435           0.84683    0.84559   \n",
       "\n",
       "                  MeanRuntime  NumberOfTrees  \n",
       "Default CatBoost    134.99674            100  \n",
       "Default XGBoost      65.03421            100  \n",
       "Default LightGBM     16.47654            100  "
      ]
     },
     "execution_count": 18,
     "metadata": {},
     "output_type": "execute_result"
    }
   ],
   "source": [
    "results = [\n",
    "    cab_default_test_result,\n",
    "    xgb_default_test_result,\n",
    "    lgb_default_test_result,\n",
    "]\n",
    "res_df = pd.DataFrame(np.array(results), \n",
    "                      columns=['LogLoss', 'F-measure_Class0', 'F-measure_Class1', \n",
    "                               'F-measure', 'MeanRuntime', 'NumberOfTrees'], \n",
    "                      index = ['Default CatBoost', 'Default XGBoost', 'Default LightGBM']\n",
    "                     )\n",
    "res_df['NumberOfTrees'] = res_df['NumberOfTrees'].astype(int)\n",
    "res_df.round(5)"
   ]
  },
  {
   "cell_type": "code",
   "execution_count": 21,
   "metadata": {
    "collapsed": true
   },
   "outputs": [],
   "source": [
    "res_df.to_csv('../results/results_reviews.csv')"
   ]
  },
  {
   "cell_type": "code",
   "execution_count": 39,
   "metadata": {},
   "outputs": [
    {
     "data": {
      "text/html": [
       "<div>\n",
       "<style>\n",
       "    .dataframe thead tr:only-child th {\n",
       "        text-align: right;\n",
       "    }\n",
       "\n",
       "    .dataframe thead th {\n",
       "        text-align: left;\n",
       "    }\n",
       "\n",
       "    .dataframe tbody tr th {\n",
       "        vertical-align: top;\n",
       "    }\n",
       "</style>\n",
       "<table border=\"1\" class=\"dataframe\">\n",
       "  <thead>\n",
       "    <tr style=\"text-align: right;\">\n",
       "      <th></th>\n",
       "      <th>LogLoss</th>\n",
       "      <th>F-measure_Class0</th>\n",
       "      <th>F-measure_Class1</th>\n",
       "      <th>MeanRuntime</th>\n",
       "      <th>NumberOfTrees</th>\n",
       "    </tr>\n",
       "  </thead>\n",
       "  <tbody>\n",
       "    <tr>\n",
       "      <th>Default CatBoost</th>\n",
       "      <td>0.50903</td>\n",
       "      <td>0.75104</td>\n",
       "      <td>0.79194</td>\n",
       "      <td>138.48445</td>\n",
       "      <td>100</td>\n",
       "    </tr>\n",
       "    <tr>\n",
       "      <th>Default XGBoost</th>\n",
       "      <td>0.37462</td>\n",
       "      <td>0.83035</td>\n",
       "      <td>0.83940</td>\n",
       "      <td>61.66158</td>\n",
       "      <td>100</td>\n",
       "    </tr>\n",
       "    <tr>\n",
       "      <th>Default LightGBM</th>\n",
       "      <td>0.34905</td>\n",
       "      <td>0.84435</td>\n",
       "      <td>0.84683</td>\n",
       "      <td>16.51081</td>\n",
       "      <td>100</td>\n",
       "    </tr>\n",
       "  </tbody>\n",
       "</table>\n",
       "</div>"
      ],
      "text/plain": [
       "                  LogLoss  F-measure_Class0  F-measure_Class1  MeanRuntime  \\\n",
       "Default CatBoost  0.50903           0.75104           0.79194    138.48445   \n",
       "Default XGBoost   0.37462           0.83035           0.83940     61.66158   \n",
       "Default LightGBM  0.34905           0.84435           0.84683     16.51081   \n",
       "\n",
       "                  NumberOfTrees  \n",
       "Default CatBoost            100  \n",
       "Default XGBoost             100  \n",
       "Default LightGBM            100  "
      ]
     },
     "execution_count": 39,
     "metadata": {},
     "output_type": "execute_result"
    }
   ],
   "source": [
    "res_df = pd.read_csv('../results/results_reviews.csv', index_col=0)\n",
    "res_df.round(5)"
   ]
  },
  {
   "cell_type": "code",
   "execution_count": 72,
   "metadata": {},
   "outputs": [
    {
     "data": {
      "text/html": [
       "<div>\n",
       "<style>\n",
       "    .dataframe thead tr:only-child th {\n",
       "        text-align: right;\n",
       "    }\n",
       "\n",
       "    .dataframe thead th {\n",
       "        text-align: left;\n",
       "    }\n",
       "\n",
       "    .dataframe tbody tr th {\n",
       "        vertical-align: top;\n",
       "    }\n",
       "</style>\n",
       "<table border=\"1\" class=\"dataframe\">\n",
       "  <thead>\n",
       "    <tr style=\"text-align: right;\">\n",
       "      <th></th>\n",
       "      <th>LogLoss</th>\n",
       "      <th>Class 0</th>\n",
       "      <th>Class 1</th>\n",
       "      <th>MeanRuntime</th>\n",
       "      <th>NumberOfTrees</th>\n",
       "    </tr>\n",
       "  </thead>\n",
       "  <tbody>\n",
       "    <tr>\n",
       "      <th>Default CatBoost</th>\n",
       "      <td>0.509033</td>\n",
       "      <td>0.751040</td>\n",
       "      <td>0.791938</td>\n",
       "      <td>138.484445</td>\n",
       "      <td>100</td>\n",
       "    </tr>\n",
       "    <tr>\n",
       "      <th>Default XGBoost</th>\n",
       "      <td>0.374620</td>\n",
       "      <td>0.830352</td>\n",
       "      <td>0.839400</td>\n",
       "      <td>61.661581</td>\n",
       "      <td>100</td>\n",
       "    </tr>\n",
       "    <tr>\n",
       "      <th>Default LightGBM</th>\n",
       "      <td>0.349052</td>\n",
       "      <td>0.844355</td>\n",
       "      <td>0.846825</td>\n",
       "      <td>16.510813</td>\n",
       "      <td>100</td>\n",
       "    </tr>\n",
       "  </tbody>\n",
       "</table>\n",
       "</div>"
      ],
      "text/plain": [
       "                   LogLoss   Class 0   Class 1  MeanRuntime  NumberOfTrees\n",
       "Default CatBoost  0.509033  0.751040  0.791938   138.484445            100\n",
       "Default XGBoost   0.374620  0.830352  0.839400    61.661581            100\n",
       "Default LightGBM  0.349052  0.844355  0.846825    16.510813            100"
      ]
     },
     "execution_count": 72,
     "metadata": {},
     "output_type": "execute_result"
    }
   ],
   "source": [
    "f = res_df.rename(columns={\"F-measure_Class0\": \"Class 0\", \"F-measure_Class1\": \"Class 1\"})\n",
    "f = pd.DataFrame(f[['Class 0', 'Class 1']].stack(), columns=['F-measure'])"
   ]
  },
  {
   "cell_type": "markdown",
   "metadata": {},
   "source": [
    "###### LogLoss"
   ]
  },
  {
   "cell_type": "code",
   "execution_count": 44,
   "metadata": {},
   "outputs": [
    {
     "data": {
      "image/png": "[encoded data removed]",
      "text/plain": [
       "<matplotlib.figure.Figure at 0x7f0f8c109110>"
      ]
     },
     "metadata": {},
     "output_type": "display_data"
    }
   ],
   "source": [
    "%pylab inline\n",
    "import seaborn as sns\n",
    "\n",
    "names = ['%s\\n%.5f' % (name, loss) for name, loss in zip(res_df.index, res_df['LogLoss'])]\n",
    "\n",
    "plt.figure(figsize=(15,6))\n",
    "sns.set(font_scale=1.5)\n",
    "sns.set_style(\"whitegrid\")\n",
    "g = sns.barplot(x=res_df.index, y=\"LogLoss\", data=res_df, palette='Set2')\n",
    "g.set(ylim=(0.2, 0.55), ylabel='LogLoss', title='Comparison: LogLoss')\n",
    "_ = g.set_xticklabels(names)"
   ]
  },
  {
   "cell_type": "markdown",
   "metadata": {},
   "source": [
    "###### F-measure "
   ]
  },
  {
   "cell_type": "code",
   "execution_count": 104,
   "metadata": {},
   "outputs": [
    {
     "data": {
      "image/png": "[encoded data removed]",
      "text/plain": [
       "<matplotlib.figure.Figure at 0x7f0f440f3810>"
      ]
     },
     "metadata": {},
     "output_type": "display_data"
    }
   ],
   "source": [
    "f = res_df.rename(columns={\"F-measure_Class0\": \"Class 0\", \"F-measure_Class1\": \"Class 1\"})\n",
    "f = pd.DataFrame(f[['Class 0', 'Class 1']].stack(), columns=['F-measure'])\n",
    "\n",
    "names = ['{}\\n{:.5f}\\n{:.5f}'.format(name, f1_0, f1_1) for name, f1_0, f1_1\n",
    "         in zip(res_df.index, res_df['F-measure_Class0'], res_df['F-measure_Class1'])]\n",
    "\n",
    "plt.figure(figsize=(15,6))\n",
    "sns.set(font_scale=1.5)\n",
    "sns.set_style(\"whitegrid\")\n",
    "g = sns.barplot(x=f.index.get_level_values(0), y=\"F-measure\", hue=f.index.get_level_values(1),\n",
    "                data=f, palette='Set2')\n",
    "g.set(ylim=(0.7, 0.9), ylabel='F-score', title='Comparison: F-scores')\n",
    "_ = g.set_xticklabels(names)"
   ]
  },
  {
   "cell_type": "markdown",
   "metadata": {},
   "source": [
    "##### Average runtime"
   ]
  },
  {
   "cell_type": "code",
   "execution_count": 107,
   "metadata": {},
   "outputs": [
    {
     "data": {
      "image/png": "[encoded data removed]",
      "text/plain": [
       "<matplotlib.figure.Figure at 0x7f0f43e838d0>"
      ]
     },
     "metadata": {},
     "output_type": "display_data"
    }
   ],
   "source": [
    "names = ['{}\\n{:.5f}\\n({} trees)'.format(name, loss, tree) for name, loss, tree in \n",
    "         zip(res_df.index, res_df['MeanRuntime'], res_df['NumberOfTrees'])]\n",
    "\n",
    "plt.figure(figsize=(15,6))\n",
    "sns.set(font_scale=1.5)\n",
    "sns.set_style(\"whitegrid\")\n",
    "g = sns.barplot(x=res_df.index, y=\"MeanRuntime\", data=res_df, palette='Set2')\n",
    "g.set(ylim=(0., 150), ylabel='Time (seconds)', title='Comparison: average runtime')\n",
    "_ = g.set_xticklabels(names)"
   ]
  },
  {
   "cell_type": "code",
   "execution_count": 120,
   "metadata": {},
   "outputs": [
    {
     "name": "stdout",
     "output_type": "stream",
     "text": [
      "\n",
      "\n",
      "In this task CatBoost is on average\n",
      "\n",
      "\t\t2.2 times slower than XGBoost \n",
      "\t\t8.4 times slower than LightGBM\n",
      "\n"
     ]
    }
   ],
   "source": [
    "print '\\n\\nIn this task CatBoost is on average\\n\\n\\t\\t{:.1f} times slower than XGBoost \\n\\t\\t{:.1f} times slower than LightGBM\\n'.format(\n",
    "    res_df['MeanRuntime'][0]/res_df['MeanRuntime'][1],\n",
    "    res_df['MeanRuntime'][0]/res_df['MeanRuntime'][2]\n",
    ")"
   ]
  },
  {
   "cell_type": "markdown",
   "metadata": {},
   "source": [
    "Теперь ограничим 5000."
   ]
  },
  {
   "cell_type": "markdown",
   "metadata": {},
   "source": [
    "# n_estimators = 5000"
   ]
  },
  {
   "cell_type": "markdown",
   "metadata": {},
   "source": [
    "## XGBoost"
   ]
  },
  {
   "cell_type": "code",
   "execution_count": 15,
   "metadata": {},
   "outputs": [
    {
     "name": "stdout",
     "output_type": "stream",
     "text": [
      "Default XGBoost result on cv:\n",
      "\n",
      "logloss = 0.3578022\n",
      "best_n_estimators = 348\n",
      "params = {'colsample_bytree': 1.0, 'silent': 1, 'eval_metric': 'logloss', 'colsample_bylevel': 1.0, 'min_child_weight': 1, 'subsample': 1.0, 'eta': 0.3, 'objective': 'binary:logistic', 'alpha': 0, 'seed': 0, 'max_depth': 6, 'gamma': 0, 'lambda': 1}\n",
      "\n",
      "~~~~~~~~~~~~~~~~~~~~~~~~~~~~~~~~~~~~~~~~~~~~~~~~~~~~\n",
      "\n",
      "For seed=0 Test's logloss : 0.35183\n",
      "For seed=1 Test's logloss : 0.35183\n",
      "For seed=2 Test's logloss : 0.35183\n",
      "For seed=3 Test's logloss : 0.35183\n",
      "\n",
      "             precision    recall  f1-score   support\n",
      "\n",
      "          0       0.86      0.83      0.85      2500\n",
      "          1       0.83      0.87      0.85      2500\n",
      "\n",
      "avg / total       0.85      0.85      0.85      5000\n",
      "\n",
      "For seed=4 Test's logloss : 0.35183\n",
      "\n",
      "Test's logloss mean: 0.35183, Test's logloss std: 0.00000\n",
      "\n",
      "Mean f-score for class 0: 0.84507\n",
      "Mean f-score for class 1: 0.85121\n",
      "\n",
      "Mean average f-score: 0.84814\n",
      "\n",
      "\n",
      "Durations:\n",
      "[241.1426179409027, 224.8253309726715, 219.65754199028015, 236.11262106895447, 216.58823704719543]\n",
      "Average runtime: 227.665 sec\n",
      "\n",
      "~~~~~~~~~~~~~~~~~~~~~~~~~~~~~~~~~~~~~~~~~~~~~~~~~~~~\n",
      "\n",
      "CPU times: user 15h 37min 54s, sys: 46 s, total: 15h 38min 40s\n",
      "Wall time: 4h 4min 19s\n"
     ]
    }
   ],
   "source": [
    "%%time\n",
    "xgb_result_moretrees = run_default(XGBExperiment, \"XGBoost\", n_estimators=5000)"
   ]
  },
  {
   "cell_type": "markdown",
   "metadata": {},
   "source": [
    "## LightXGB "
   ]
  },
  {
   "cell_type": "code",
   "execution_count": 13,
   "metadata": {},
   "outputs": [
    {
     "name": "stdout",
     "output_type": "stream",
     "text": [
      "Default LightGBM result on cv:\n",
      "\n",
      "logloss = 0.353624568878\n",
      "best_n_estimators = 130\n",
      "params = {'num_leaves': 127, 'verbose': -1, 'bagging_seed': 3, 'learning_rate': 0.1, 'data_random_seed': 1, 'min_data_in_leaf': 100, 'bagging_fraction': 1.0, 'metric': 'binary_logloss', 'feature_fraction_seed': 2, 'lambda_l1': 0, 'bagging_freq': 1, 'lambda_l2': 0, 'max_bin': 255, 'objective': 'binary', 'drop_seed': 4, 'min_sum_hessian_in_leaf': 10, 'feature_fraction': 1.0}\n",
      "\n",
      "~~~~~~~~~~~~~~~~~~~~~~~~~~~~~~~~~~~~~~~~~~~~~~~~~~~~\n",
      "\n",
      "For seed=0 Test's logloss : 0.34620\n",
      "For seed=1 Test's logloss : 0.34620\n",
      "For seed=2 Test's logloss : 0.34620\n",
      "For seed=3 Test's logloss : 0.34620\n",
      "\n",
      "             precision    recall  f1-score   support\n",
      "\n",
      "          0       0.86      0.84      0.85      2500\n",
      "          1       0.84      0.86      0.85      2500\n",
      "\n",
      "avg / total       0.85      0.85      0.85      5000\n",
      "\n",
      "For seed=4 Test's logloss : 0.34620\n",
      "\n",
      "Test's logloss mean: 0.34620, Test's logloss std: 0.00000\n",
      "\n",
      "Mean f-score for class 0: 0.84693\n",
      "Mean f-score for class 1: 0.84984\n",
      "\n",
      "Mean average f-score: 0.84839\n",
      "\n",
      "\n",
      "Durations:\n",
      "[20.8441219329834, 18.9832661151886, 20.012910842895508, 19.22691798210144, 22.22165298461914]\n",
      "Average runtime: 20.258 sec\n",
      "\n",
      "~~~~~~~~~~~~~~~~~~~~~~~~~~~~~~~~~~~~~~~~~~~~~~~~~~~~\n",
      "\n",
      "CPU times: user 36min 47s, sys: 7.44 s, total: 36min 54s\n",
      "Wall time: 9min 50s\n"
     ]
    }
   ],
   "source": [
    "%%time\n",
    "lgb_result_moretrees = run_default(LGBExperiment, \"LightGBM\", n_estimators=5000)"
   ]
  },
  {
   "cell_type": "markdown",
   "metadata": {},
   "source": [
    "## CatBoost "
   ]
  },
  {
   "cell_type": "code",
   "execution_count": 14,
   "metadata": {},
   "outputs": [
    {
     "name": "stdout",
     "output_type": "stream",
     "text": [
      "Default CatBoost result on cv:\n",
      "\n",
      "logloss = 0.34090409098\n",
      "best_n_estimators = 5000\n",
      "params = {'rsm': 1.0, 'random_seed': 0, 'verbose': False, 'learning_rate': 0.03, 'ctr_border_count': 16, 'ctr_description': ['Borders', 'Counter'], 'depth': 6, 'fold_len_multiplier': 2, 'loss_function': 'Logloss', 'iterations': 5000, 'l2_leaf_reg': 3, 'leaf_estimation_method': 'Newton', 'gradient_iterations': 10, 'border_count': 128, 'used_ram_limit': 100000000000}\n",
      "\n",
      "~~~~~~~~~~~~~~~~~~~~~~~~~~~~~~~~~~~~~~~~~~~~~~~~~~~~\n",
      "\n",
      "For seed=0 Test's logloss : 0.33208\n",
      "For seed=1 Test's logloss : 0.33159\n",
      "For seed=2 Test's logloss : 0.33204\n",
      "For seed=3 Test's logloss : 0.33398\n",
      "\n",
      "             precision    recall  f1-score   support\n",
      "\n",
      "          0       0.87      0.84      0.86      2500\n",
      "          1       0.85      0.87      0.86      2500\n",
      "\n",
      "avg / total       0.86      0.86      0.86      5000\n",
      "\n",
      "For seed=4 Test's logloss : 0.33430\n",
      "\n",
      "Test's logloss mean: 0.33280, Test's logloss std: 0.00112\n",
      "\n",
      "Mean f-score for class 0: 0.85686\n",
      "Mean f-score for class 1: 0.86123\n",
      "\n",
      "Mean average f-score: 0.85905\n",
      "\n",
      "\n",
      "Durations:\n",
      "[6533.114971876144, 6553.114982128143, 6601.976002931595, 6994.33392906189, 7104.897039175034]\n",
      "Average runtime: 6757.487 sec\n",
      "\n",
      "~~~~~~~~~~~~~~~~~~~~~~~~~~~~~~~~~~~~~~~~~~~~~~~~~~~~\n",
      "\n",
      "CPU times: user 2d 19h 56min 12s, sys: 10min 40s, total: 2d 20h 6min 52s\n",
      "Wall time: 17h 41min 20s\n"
     ]
    }
   ],
   "source": [
    "%%time\n",
    "cab_result_moretrees = run_default(CABExperiment, \"CatBoost\", n_estimators=5000)"
   ]
  },
  {
   "cell_type": "code",
   "execution_count": 17,
   "metadata": {},
   "outputs": [
    {
     "data": {
      "text/html": [
       "<div>\n",
       "<style>\n",
       "    .dataframe thead tr:only-child th {\n",
       "        text-align: right;\n",
       "    }\n",
       "\n",
       "    .dataframe thead th {\n",
       "        text-align: left;\n",
       "    }\n",
       "\n",
       "    .dataframe tbody tr th {\n",
       "        vertical-align: top;\n",
       "    }\n",
       "</style>\n",
       "<table border=\"1\" class=\"dataframe\">\n",
       "  <thead>\n",
       "    <tr style=\"text-align: right;\">\n",
       "      <th></th>\n",
       "      <th>LogLoss</th>\n",
       "      <th>F-measure_Class0</th>\n",
       "      <th>F-measure_Class1</th>\n",
       "      <th>F-measure</th>\n",
       "      <th>MeanRuntime</th>\n",
       "      <th>NumberOfTrees</th>\n",
       "    </tr>\n",
       "  </thead>\n",
       "  <tbody>\n",
       "    <tr>\n",
       "      <th>Default CatBoost</th>\n",
       "      <td>0.33280</td>\n",
       "      <td>0.85686</td>\n",
       "      <td>0.86123</td>\n",
       "      <td>0.85905</td>\n",
       "      <td>6757.48739</td>\n",
       "      <td>5000</td>\n",
       "    </tr>\n",
       "    <tr>\n",
       "      <th>Default XGBoost</th>\n",
       "      <td>0.35183</td>\n",
       "      <td>0.84507</td>\n",
       "      <td>0.85121</td>\n",
       "      <td>0.84814</td>\n",
       "      <td>227.66527</td>\n",
       "      <td>348</td>\n",
       "    </tr>\n",
       "    <tr>\n",
       "      <th>Default LightGBM</th>\n",
       "      <td>0.34620</td>\n",
       "      <td>0.84693</td>\n",
       "      <td>0.84984</td>\n",
       "      <td>0.84839</td>\n",
       "      <td>20.25777</td>\n",
       "      <td>130</td>\n",
       "    </tr>\n",
       "  </tbody>\n",
       "</table>\n",
       "</div>"
      ],
      "text/plain": [
       "                  LogLoss  F-measure_Class0  F-measure_Class1  F-measure  \\\n",
       "Default CatBoost  0.33280           0.85686           0.86123    0.85905   \n",
       "Default XGBoost   0.35183           0.84507           0.85121    0.84814   \n",
       "Default LightGBM  0.34620           0.84693           0.84984    0.84839   \n",
       "\n",
       "                  MeanRuntime  NumberOfTrees  \n",
       "Default CatBoost   6757.48739           5000  \n",
       "Default XGBoost     227.66527            348  \n",
       "Default LightGBM     20.25777            130  "
      ]
     },
     "execution_count": 17,
     "metadata": {},
     "output_type": "execute_result"
    }
   ],
   "source": [
    "results_moretrees = [\n",
    "    cab_result_moretrees,\n",
    "    xgb_result_moretrees,\n",
    "    lgb_result_moretrees,\n",
    "]\n",
    "more_df = pd.DataFrame(np.array(results_moretrees), \n",
    "            columns=['LogLoss', 'F-measure_Class0', 'F-measure_Class1', \n",
    "                     'F-measure', 'MeanRuntime', 'NumberOfTrees'], \n",
    "            index = ['Default CatBoost', 'Default XGBoost', 'Default LightGBM'])\n",
    "more_df['NumberOfTrees'] = more_df['NumberOfTrees'].astype(int)\n",
    "more_df.round(5)"
   ]
  },
  {
   "cell_type": "code",
   "execution_count": 20,
   "metadata": {
    "collapsed": true
   },
   "outputs": [],
   "source": [
    "more_df.to_csv('../results/results_reviews_moretrees.csv')"
   ]
  },
  {
   "cell_type": "code",
   "execution_count": 15,
   "metadata": {},
   "outputs": [
    {
     "data": {
      "text/html": [
       "<div>\n",
       "<style>\n",
       "    .dataframe thead tr:only-child th {\n",
       "        text-align: right;\n",
       "    }\n",
       "\n",
       "    .dataframe thead th {\n",
       "        text-align: left;\n",
       "    }\n",
       "\n",
       "    .dataframe tbody tr th {\n",
       "        vertical-align: top;\n",
       "    }\n",
       "</style>\n",
       "<table border=\"1\" class=\"dataframe\">\n",
       "  <thead>\n",
       "    <tr style=\"text-align: right;\">\n",
       "      <th></th>\n",
       "      <th>LogLoss</th>\n",
       "      <th>F-measure_Class0</th>\n",
       "      <th>F-measure_Class1</th>\n",
       "      <th>F-measure</th>\n",
       "      <th>MeanRuntime</th>\n",
       "      <th>NumberOfTrees</th>\n",
       "    </tr>\n",
       "  </thead>\n",
       "  <tbody>\n",
       "    <tr>\n",
       "      <th>Default CatBoost</th>\n",
       "      <td>0.33280</td>\n",
       "      <td>0.85686</td>\n",
       "      <td>0.86123</td>\n",
       "      <td>0.85905</td>\n",
       "      <td>6757.48739</td>\n",
       "      <td>5000</td>\n",
       "    </tr>\n",
       "    <tr>\n",
       "      <th>Default XGBoost</th>\n",
       "      <td>0.35183</td>\n",
       "      <td>0.84507</td>\n",
       "      <td>0.85121</td>\n",
       "      <td>0.84814</td>\n",
       "      <td>227.66527</td>\n",
       "      <td>348</td>\n",
       "    </tr>\n",
       "    <tr>\n",
       "      <th>Default LightGBM</th>\n",
       "      <td>0.34620</td>\n",
       "      <td>0.84693</td>\n",
       "      <td>0.84984</td>\n",
       "      <td>0.84839</td>\n",
       "      <td>20.25777</td>\n",
       "      <td>130</td>\n",
       "    </tr>\n",
       "  </tbody>\n",
       "</table>\n",
       "</div>"
      ],
      "text/plain": [
       "                  LogLoss  F-measure_Class0  F-measure_Class1  F-measure  \\\n",
       "Default CatBoost  0.33280           0.85686           0.86123    0.85905   \n",
       "Default XGBoost   0.35183           0.84507           0.85121    0.84814   \n",
       "Default LightGBM  0.34620           0.84693           0.84984    0.84839   \n",
       "\n",
       "                  MeanRuntime  NumberOfTrees  \n",
       "Default CatBoost   6757.48739           5000  \n",
       "Default XGBoost     227.66527            348  \n",
       "Default LightGBM     20.25777            130  "
      ]
     },
     "execution_count": 15,
     "metadata": {},
     "output_type": "execute_result"
    }
   ],
   "source": [
    "more_df = pd.read_csv('../results/results_reviews_moretrees.csv', index_col=0)\n",
    "more_df.round(5)"
   ]
  },
  {
   "cell_type": "markdown",
   "metadata": {},
   "source": [
    "##### LogLoss"
   ]
  },
  {
   "cell_type": "code",
   "execution_count": 16,
   "metadata": {},
   "outputs": [
    {
     "name": "stdout",
     "output_type": "stream",
     "text": [
      "Populating the interactive namespace from numpy and matplotlib\n"
     ]
    },
    {
     "data": {
      "image/png": "[encoded data removed]",
      "text/plain": [
       "<matplotlib.figure.Figure at 0x7f9584ee42d0>"
      ]
     },
     "metadata": {},
     "output_type": "display_data"
    }
   ],
   "source": [
    "%pylab inline\n",
    "import seaborn as sns\n",
    "\n",
    "names = ['%s\\n%.5f' % (name, loss) for name, loss in zip(more_df.index, more_df['LogLoss'])]\n",
    "\n",
    "plt.figure(figsize=(15,6))\n",
    "sns.set(font_scale=1.5)\n",
    "sns.set_style(\"whitegrid\")\n",
    "g = sns.barplot(x=more_df.index, y=\"LogLoss\", data=more_df, palette='Set2')\n",
    "g.set(ylim=(0.2, 0.4), ylabel='LogLoss', title='Comparison: LogLoss')\n",
    "_ = g.set_xticklabels(names)"
   ]
  },
  {
   "cell_type": "markdown",
   "metadata": {},
   "source": [
    "##### F-measure"
   ]
  },
  {
   "cell_type": "code",
   "execution_count": 17,
   "metadata": {},
   "outputs": [
    {
     "data": {
      "image/png": "[encoded data removed]",
      "text/plain": [
       "<matplotlib.figure.Figure at 0x7f9584c73990>"
      ]
     },
     "metadata": {},
     "output_type": "display_data"
    }
   ],
   "source": [
    "f = more_df.rename(columns={\"F-measure_Class0\": \"Class 0\", \"F-measure_Class1\": \"Class 1\"})\n",
    "f = pd.DataFrame(f[['Class 0', 'Class 1']].stack(), columns=['F-measure'])\n",
    "\n",
    "names = ['{}\\n{:.5f}\\n{:.5f}'.format(name, f1_0, f1_1) for name, f1_0, f1_1\n",
    "         in zip(more_df.index, more_df['F-measure_Class0'], more_df['F-measure_Class1'])]\n",
    "\n",
    "plt.figure(figsize=(15,6))\n",
    "sns.set(font_scale=1.5)\n",
    "sns.set_style(\"whitegrid\")\n",
    "g = sns.barplot(x=f.index.get_level_values(0), y=\"F-measure\", hue=f.index.get_level_values(1),\n",
    "                data=f, palette='Set2')\n",
    "g.set(ylim=(0.8, 0.9), ylabel='F-score', title='Comparison: F-scores')\n",
    "_ = g.set_xticklabels(names)"
   ]
  },
  {
   "cell_type": "markdown",
   "metadata": {},
   "source": [
    "##### Average runtime"
   ]
  },
  {
   "cell_type": "code",
   "execution_count": 19,
   "metadata": {},
   "outputs": [
    {
     "data": {
      "image/png": "[encoded data removed]",
      "text/plain": [
       "<matplotlib.figure.Figure at 0x7f9587a69c90>"
      ]
     },
     "metadata": {},
     "output_type": "display_data"
    }
   ],
   "source": [
    "names = ['{}\\n{:.5f}\\n({} trees)'.format(name, loss, tree) for name, loss, tree in \n",
    "         zip(more_df.index, more_df['MeanRuntime'], more_df['NumberOfTrees'])]\n",
    "\n",
    "plt.figure(figsize=(15,8))\n",
    "sns.set(font_scale=1.5)\n",
    "sns.set_style(\"whitegrid\")\n",
    "g = sns.barplot(x=more_df.index, y=\"MeanRuntime\", data=more_df, palette='Set2')\n",
    "g.set(ylim=(0., 6800), ylabel='Time (seconds)', title='Comparison: average runtime')\n",
    "_ = g.set_xticklabels(names)"
   ]
  }
 ],
 "metadata": {
  "kernelspec": {
   "display_name": "Python [conda env:py2]",
   "language": "python",
   "name": "conda-env-py2-py"
  },
  "language_info": {
   "codemirror_mode": {
    "name": "ipython",
    "version": 2
   },
   "file_extension": ".py",
   "mimetype": "text/x-python",
   "name": "python",
   "nbconvert_exporter": "python",
   "pygments_lexer": "ipython2",
   "version": "2.7.13"
  }
 },
 "nbformat": 4,
 "nbformat_minor": 2
}
