{
 "cells": [
  {
   "cell_type": "markdown",
   "metadata": {},
   "source": [
    "# Shelter animals"
   ]
  },
  {
   "cell_type": "markdown",
   "metadata": {},
   "source": [
    "https://www.kaggle.com/c/shelter-animal-outcomes\n",
    "\n",
    "The data comes from Austin Animal Center from October 1st, 2013 to March, 2016. Outcomes represent the status of animals as they leave the Animal Center. All animals receive a unique Animal ID during intake. \n",
    "\n",
    "In this competition, you are going to predict the outcome of the animal as they leave the Animal Center. These outcomes include: Adoption, Died, Euthanasia, Return to owner, and Transfer. "
   ]
  },
  {
   "cell_type": "code",
   "execution_count": 2,
   "metadata": {
    "collapsed": true
   },
   "outputs": [],
   "source": [
    "import pandas as pd\n",
    "import numpy as np\n",
    "data = pd.read_csv('../data/shelter_animals/train.csv')"
   ]
  },
  {
   "cell_type": "code",
   "execution_count": 22,
   "metadata": {},
   "outputs": [
    {
     "data": {
      "text/plain": [
       "26729"
      ]
     },
     "execution_count": 22,
     "metadata": {},
     "output_type": "execute_result"
    }
   ],
   "source": [
    "len(data)"
   ]
  },
  {
   "cell_type": "code",
   "execution_count": 23,
   "metadata": {},
   "outputs": [
    {
     "data": {
      "text/html": [
       "<div>\n",
       "<style>\n",
       "    .dataframe thead tr:only-child th {\n",
       "        text-align: right;\n",
       "    }\n",
       "\n",
       "    .dataframe thead th {\n",
       "        text-align: left;\n",
       "    }\n",
       "\n",
       "    .dataframe tbody tr th {\n",
       "        vertical-align: top;\n",
       "    }\n",
       "</style>\n",
       "<table border=\"1\" class=\"dataframe\">\n",
       "  <thead>\n",
       "    <tr style=\"text-align: right;\">\n",
       "      <th></th>\n",
       "      <th>AnimalID</th>\n",
       "      <th>Name</th>\n",
       "      <th>DateTime</th>\n",
       "      <th>OutcomeType</th>\n",
       "      <th>OutcomeSubtype</th>\n",
       "      <th>AnimalType</th>\n",
       "      <th>SexuponOutcome</th>\n",
       "      <th>AgeuponOutcome</th>\n",
       "      <th>Breed</th>\n",
       "      <th>Color</th>\n",
       "    </tr>\n",
       "  </thead>\n",
       "  <tbody>\n",
       "    <tr>\n",
       "      <th>0</th>\n",
       "      <td>A671945</td>\n",
       "      <td>Hambone</td>\n",
       "      <td>2014-02-12 18:22:00</td>\n",
       "      <td>Return_to_owner</td>\n",
       "      <td>NaN</td>\n",
       "      <td>Dog</td>\n",
       "      <td>Neutered Male</td>\n",
       "      <td>1 year</td>\n",
       "      <td>Shetland Sheepdog Mix</td>\n",
       "      <td>Brown/White</td>\n",
       "    </tr>\n",
       "    <tr>\n",
       "      <th>1</th>\n",
       "      <td>A656520</td>\n",
       "      <td>Emily</td>\n",
       "      <td>2013-10-13 12:44:00</td>\n",
       "      <td>Euthanasia</td>\n",
       "      <td>Suffering</td>\n",
       "      <td>Cat</td>\n",
       "      <td>Spayed Female</td>\n",
       "      <td>1 year</td>\n",
       "      <td>Domestic Shorthair Mix</td>\n",
       "      <td>Cream Tabby</td>\n",
       "    </tr>\n",
       "    <tr>\n",
       "      <th>2</th>\n",
       "      <td>A686464</td>\n",
       "      <td>Pearce</td>\n",
       "      <td>2015-01-31 12:28:00</td>\n",
       "      <td>Adoption</td>\n",
       "      <td>Foster</td>\n",
       "      <td>Dog</td>\n",
       "      <td>Neutered Male</td>\n",
       "      <td>2 years</td>\n",
       "      <td>Pit Bull Mix</td>\n",
       "      <td>Blue/White</td>\n",
       "    </tr>\n",
       "    <tr>\n",
       "      <th>3</th>\n",
       "      <td>A683430</td>\n",
       "      <td>NaN</td>\n",
       "      <td>2014-07-11 19:09:00</td>\n",
       "      <td>Transfer</td>\n",
       "      <td>Partner</td>\n",
       "      <td>Cat</td>\n",
       "      <td>Intact Male</td>\n",
       "      <td>3 weeks</td>\n",
       "      <td>Domestic Shorthair Mix</td>\n",
       "      <td>Blue Cream</td>\n",
       "    </tr>\n",
       "    <tr>\n",
       "      <th>4</th>\n",
       "      <td>A667013</td>\n",
       "      <td>NaN</td>\n",
       "      <td>2013-11-15 12:52:00</td>\n",
       "      <td>Transfer</td>\n",
       "      <td>Partner</td>\n",
       "      <td>Dog</td>\n",
       "      <td>Neutered Male</td>\n",
       "      <td>2 years</td>\n",
       "      <td>Lhasa Apso/Miniature Poodle</td>\n",
       "      <td>Tan</td>\n",
       "    </tr>\n",
       "  </tbody>\n",
       "</table>\n",
       "</div>"
      ],
      "text/plain": [
       "  AnimalID     Name             DateTime      OutcomeType OutcomeSubtype  \\\n",
       "0  A671945  Hambone  2014-02-12 18:22:00  Return_to_owner            NaN   \n",
       "1  A656520    Emily  2013-10-13 12:44:00       Euthanasia      Suffering   \n",
       "2  A686464   Pearce  2015-01-31 12:28:00         Adoption         Foster   \n",
       "3  A683430      NaN  2014-07-11 19:09:00         Transfer        Partner   \n",
       "4  A667013      NaN  2013-11-15 12:52:00         Transfer        Partner   \n",
       "\n",
       "  AnimalType SexuponOutcome AgeuponOutcome                        Breed  \\\n",
       "0        Dog  Neutered Male         1 year        Shetland Sheepdog Mix   \n",
       "1        Cat  Spayed Female         1 year       Domestic Shorthair Mix   \n",
       "2        Dog  Neutered Male        2 years                 Pit Bull Mix   \n",
       "3        Cat    Intact Male        3 weeks       Domestic Shorthair Mix   \n",
       "4        Dog  Neutered Male        2 years  Lhasa Apso/Miniature Poodle   \n",
       "\n",
       "         Color  \n",
       "0  Brown/White  \n",
       "1  Cream Tabby  \n",
       "2   Blue/White  \n",
       "3   Blue Cream  \n",
       "4          Tan  "
      ]
     },
     "execution_count": 23,
     "metadata": {},
     "output_type": "execute_result"
    }
   ],
   "source": [
    "data.head()"
   ]
  },
  {
   "cell_type": "code",
   "execution_count": 24,
   "metadata": {},
   "outputs": [
    {
     "data": {
      "text/plain": [
       "Neutered Male    9779\n",
       "Spayed Female    8820\n",
       "Intact Male      3525\n",
       "Intact Female    3511\n",
       "Unknown          1093\n",
       "NaN                 1\n",
       "Name: SexuponOutcome, dtype: int64"
      ]
     },
     "execution_count": 24,
     "metadata": {},
     "output_type": "execute_result"
    }
   ],
   "source": [
    "data['SexuponOutcome'].value_counts(dropna=False)"
   ]
  },
  {
   "cell_type": "code",
   "execution_count": 25,
   "metadata": {},
   "outputs": [
    {
     "data": {
      "text/plain": [
       "Adoption           10769\n",
       "Transfer            9422\n",
       "Return_to_owner     4786\n",
       "Euthanasia          1555\n",
       "Died                 197\n",
       "Name: OutcomeType, dtype: int64"
      ]
     },
     "execution_count": 25,
     "metadata": {},
     "output_type": "execute_result"
    }
   ],
   "source": [
    "data['OutcomeType'].value_counts()"
   ]
  },
  {
   "cell_type": "markdown",
   "metadata": {},
   "source": [
    "Это должна быть задача про многоклассовую классификацию, но КэтБуст взбесился и выдавал отрицательный логлосс, а потом выбирал одно дерево как самый классный вариант (самый отрицательный логлосс.....), поэтому я решила забить и свести к бинарному виду (хотя это, конечно, уже не так интересно): плохие исходы (смерть, эвтаназия) - 1, хорошие исходы (передача в другой питомник, возвращение владельцу, новые хозяева) - 0."
   ]
  },
  {
   "cell_type": "code",
   "execution_count": 26,
   "metadata": {
    "collapsed": true
   },
   "outputs": [],
   "source": [
    "import datetime, time\n",
    "from __future__ import division\n",
    "\n",
    "def get_age(age): #возраст в неделях\n",
    "    if age is np.nan:\n",
    "        return np.nan\n",
    "    number = int(age.split()[0])\n",
    "    if 'years' in age:\n",
    "        return number * 365 / 7\n",
    "    elif 'months' in age:\n",
    "        return number * 30 / 7\n",
    "    return number\n",
    "\n",
    "def get_year(date):\n",
    "    return int(date.split('-')[0])\n",
    "    \n",
    "def get_month(date):\n",
    "    return int(date.split('-')[1])\n",
    "\n",
    "def get_day(date):\n",
    "    return int(date.split()[0].split('-')[2])\n",
    "\n",
    "def get_minutes(date):\n",
    "    hours, minutes = date.split()[1].split(':')[:2]\n",
    "    return int(hours) * 60 + int(minutes)\n",
    "\n",
    "def get_weekday(date):\n",
    "    return datetime.datetime.strptime(date, '%Y-%m-%d %H:%M:%S').weekday()\n",
    "\n",
    "def preprocess(data):\n",
    "    data['SexuponOutcome'].fillna('Unknown', inplace=True) \n",
    "    data['Age'] = data['AgeuponOutcome'].map(get_age)\n",
    "    data['Age'].fillna(np.mean(data['Age']), inplace=True)\n",
    "    \n",
    "    data['Year'] = data['DateTime'].map(get_year)\n",
    "    data['Month'] = data['DateTime'].map(get_month)\n",
    "    data['Day'] = data['DateTime'].map(get_day)\n",
    "    data['Time'] = data['DateTime'].map(get_minutes)\n",
    "    data['Weekday'] = data['DateTime'].map(get_weekday)\n",
    "    \n",
    "    #можно еще разделить пол и стерилизацию !\n",
    "    \n",
    "    data['OutcomeNum'] = data['OutcomeType'].map(\n",
    "        #{'Return_to_owner': 0, 'Euthanasia': 1, 'Adoption': 2, 'Transfer': 3, 'Died': 4}\n",
    "        {'Return_to_owner': 0, 'Euthanasia': 1, 'Adoption': 0, 'Transfer': 0, 'Died': 1}\n",
    "    )\n",
    "    return data"
   ]
  },
  {
   "cell_type": "code",
   "execution_count": 27,
   "metadata": {
    "collapsed": true
   },
   "outputs": [],
   "source": [
    "data = preprocess(data)"
   ]
  },
  {
   "cell_type": "code",
   "execution_count": 28,
   "metadata": {},
   "outputs": [
    {
     "data": {
      "text/plain": [
       "0    0.934453\n",
       "1    0.065547\n",
       "Name: OutcomeNum, dtype: float64"
      ]
     },
     "execution_count": 28,
     "metadata": {},
     "output_type": "execute_result"
    }
   ],
   "source": [
    "data['OutcomeNum'].value_counts(normalize=True)"
   ]
  },
  {
   "cell_type": "markdown",
   "metadata": {},
   "source": [
    "Опять очень перекошенный датасет, миноритарный плохой класс занимает меньше 7 процентов всех данных."
   ]
  },
  {
   "cell_type": "code",
   "execution_count": 29,
   "metadata": {},
   "outputs": [
    {
     "data": {
      "text/html": [
       "<div>\n",
       "<style>\n",
       "    .dataframe thead tr:only-child th {\n",
       "        text-align: right;\n",
       "    }\n",
       "\n",
       "    .dataframe thead th {\n",
       "        text-align: left;\n",
       "    }\n",
       "\n",
       "    .dataframe tbody tr th {\n",
       "        vertical-align: top;\n",
       "    }\n",
       "</style>\n",
       "<table border=\"1\" class=\"dataframe\">\n",
       "  <thead>\n",
       "    <tr style=\"text-align: right;\">\n",
       "      <th></th>\n",
       "      <th>AnimalType</th>\n",
       "      <th>SexuponOutcome</th>\n",
       "      <th>Age</th>\n",
       "      <th>Year</th>\n",
       "      <th>Month</th>\n",
       "      <th>Day</th>\n",
       "      <th>Time</th>\n",
       "      <th>Weekday</th>\n",
       "    </tr>\n",
       "  </thead>\n",
       "  <tbody>\n",
       "    <tr>\n",
       "      <th>0</th>\n",
       "      <td>Dog</td>\n",
       "      <td>Neutered Male</td>\n",
       "      <td>1.000000</td>\n",
       "      <td>2014</td>\n",
       "      <td>2</td>\n",
       "      <td>12</td>\n",
       "      <td>1102</td>\n",
       "      <td>2</td>\n",
       "    </tr>\n",
       "    <tr>\n",
       "      <th>1</th>\n",
       "      <td>Cat</td>\n",
       "      <td>Spayed Female</td>\n",
       "      <td>1.000000</td>\n",
       "      <td>2013</td>\n",
       "      <td>10</td>\n",
       "      <td>13</td>\n",
       "      <td>764</td>\n",
       "      <td>6</td>\n",
       "    </tr>\n",
       "    <tr>\n",
       "      <th>2</th>\n",
       "      <td>Dog</td>\n",
       "      <td>Neutered Male</td>\n",
       "      <td>104.285714</td>\n",
       "      <td>2015</td>\n",
       "      <td>1</td>\n",
       "      <td>31</td>\n",
       "      <td>748</td>\n",
       "      <td>5</td>\n",
       "    </tr>\n",
       "    <tr>\n",
       "      <th>3</th>\n",
       "      <td>Cat</td>\n",
       "      <td>Intact Male</td>\n",
       "      <td>3.000000</td>\n",
       "      <td>2014</td>\n",
       "      <td>7</td>\n",
       "      <td>11</td>\n",
       "      <td>1149</td>\n",
       "      <td>4</td>\n",
       "    </tr>\n",
       "    <tr>\n",
       "      <th>4</th>\n",
       "      <td>Dog</td>\n",
       "      <td>Neutered Male</td>\n",
       "      <td>104.285714</td>\n",
       "      <td>2013</td>\n",
       "      <td>11</td>\n",
       "      <td>15</td>\n",
       "      <td>772</td>\n",
       "      <td>4</td>\n",
       "    </tr>\n",
       "  </tbody>\n",
       "</table>\n",
       "</div>"
      ],
      "text/plain": [
       "  AnimalType SexuponOutcome         Age  Year  Month  Day  Time  Weekday\n",
       "0        Dog  Neutered Male    1.000000  2014      2   12  1102        2\n",
       "1        Cat  Spayed Female    1.000000  2013     10   13   764        6\n",
       "2        Dog  Neutered Male  104.285714  2015      1   31   748        5\n",
       "3        Cat    Intact Male    3.000000  2014      7   11  1149        4\n",
       "4        Dog  Neutered Male  104.285714  2013     11   15   772        4"
      ]
     },
     "execution_count": 29,
     "metadata": {},
     "output_type": "execute_result"
    }
   ],
   "source": [
    "cols = ['AnimalType', 'SexuponOutcome', \n",
    "        'Age', 'Year', 'Month', 'Day', 'Time', 'Weekday']\n",
    "data[cols].head()"
   ]
  },
  {
   "cell_type": "code",
   "execution_count": 30,
   "metadata": {},
   "outputs": [
    {
     "data": {
      "text/plain": [
       "False"
      ]
     },
     "execution_count": 30,
     "metadata": {},
     "output_type": "execute_result"
    }
   ],
   "source": [
    "data[cols].isnull().values.any()"
   ]
  },
  {
   "cell_type": "code",
   "execution_count": 31,
   "metadata": {
    "collapsed": true
   },
   "outputs": [],
   "source": [
    "from sklearn.model_selection import train_test_split\n",
    "X_train, X_test, y_train, y_test = train_test_split(data[cols], data['OutcomeNum'], \n",
    "                                                    test_size=0.2, random_state=42, stratify=data['OutcomeNum'])"
   ]
  },
  {
   "cell_type": "code",
   "execution_count": 32,
   "metadata": {
    "collapsed": true
   },
   "outputs": [],
   "source": [
    "import sys\n",
    "sys.path.append('..')\n",
    "import warnings\n",
    "warnings.simplefilter('ignore')\n",
    "from experiment import Experiment\n",
    "from xgboost_experiment import XGBExperiment\n",
    "from lightgbm_experiment import LGBExperiment\n",
    "from catboost_experiment import CABExperiment"
   ]
  },
  {
   "cell_type": "code",
   "execution_count": 33,
   "metadata": {},
   "outputs": [
    {
     "name": "stdout",
     "output_type": "stream",
     "text": [
      "catboost 0.2.2\n"
     ]
    }
   ],
   "source": [
    "import pkg_resources\n",
    "print pkg_resources.get_distribution('catboost')"
   ]
  },
  {
   "cell_type": "code",
   "execution_count": 34,
   "metadata": {
    "collapsed": true
   },
   "outputs": [],
   "source": [
    "learning_task = 'classification'\n",
    "n_estimators = 100"
   ]
  },
  {
   "cell_type": "code",
   "execution_count": 35,
   "metadata": {
    "collapsed": true
   },
   "outputs": [],
   "source": [
    "X_train, y_train, X_test, y_test = np.array(X_train), np.array(y_train), np.array(X_test), np.array(y_test)\n",
    "cat_cols = np.array([0, 1])"
   ]
  },
  {
   "cell_type": "code",
   "execution_count": 36,
   "metadata": {
    "scrolled": true
   },
   "outputs": [
    {
     "data": {
      "text/plain": [
       "(21383, 8)"
      ]
     },
     "execution_count": 36,
     "metadata": {},
     "output_type": "execute_result"
    }
   ],
   "source": [
    "X_train.shape"
   ]
  },
  {
   "cell_type": "code",
   "execution_count": 52,
   "metadata": {
    "collapsed": true
   },
   "outputs": [],
   "source": [
    "from sklearn.metrics import precision_recall_fscore_support, classification_report\n",
    "\n",
    "def get_multilabel(arr):\n",
    "    return arr.argmax()\n",
    "\n",
    "def run_default(Experiment, title, n_estimators):\n",
    "    experiment = Experiment(learning_task, max_hyperopt_evals=None,\n",
    "                            n_estimators=n_estimators)\n",
    "    cv_pairs, (dtrain, dtest), X_test_preprocessed = experiment.split_and_preprocess(X_train.copy(), y_train, \n",
    "                                                                X_test.copy(), y_test, \n",
    "                                                                cat_cols, n_splits=5)\n",
    " \n",
    "    default_cv_result = experiment.run_cv(cv_pairs)\n",
    "    experiment.print_result(default_cv_result, 'Default {} result on cv'.format(title))\n",
    "\n",
    "    print('\\n~~~~~~~~~~~~~~~~~~~~~~~~~~~~~~~~~~~~~~~~~~~~~~~~~~~~\\n')\n",
    "\n",
    "    default_test_losses = []\n",
    "    #fscores = {0: [], 1: [], 2: [], 3: [], 4: [], 'average': []}\n",
    "    fscores = {0: [], 1: [], 'average': []}\n",
    "    durations = []\n",
    "    \n",
    "    for seed in xrange(5):\n",
    "        test_result = experiment.run_test(dtrain, dtest, X_test_preprocessed, params=default_cv_result['params'],\n",
    "                                          n_estimators=default_cv_result['best_n_estimators'], seed=seed)\n",
    "        default_test_losses.append(test_result['loss'])\n",
    "        preds, duration = test_result['preds'], test_result['eval_time']\n",
    "        #labels = [get_multilabel(arr) for arr in preds]\n",
    "        labels = np.array([1 if p > 0.5 else 0 for p in preds])\n",
    "        metrics = precision_recall_fscore_support(y_test, labels)\n",
    "        for cl in xrange(2):\n",
    "            fscores[cl].append(metrics[2][cl])\n",
    "        fscores['average'].append(precision_recall_fscore_support(y_test, labels,  average='weighted')[2])\n",
    "        durations.append(duration)\n",
    "    \n",
    "        print 'For seed=%d Test\\'s %s : %.5f' % (seed, experiment.metric, default_test_losses[-1])\n",
    "        \n",
    "        if seed == 4:\n",
    "            print '\\n', classification_report(y_test, labels), '\\n'\n",
    "\n",
    "    print '\\nTest\\'s %s mean: %.5f, Test\\'s %s std: %.5f\\n' % (experiment.metric, np.mean(default_test_losses),\n",
    "                                                             experiment.metric, np.std(default_test_losses))\n",
    "    \n",
    "    for cl in xrange(2):\n",
    "        print 'Mean f-score for class {}: {:.5f}'.format(cl, np.mean(fscores[cl]))\n",
    "    print '\\nMean average f-score: {:.5f}'.format(np.mean(fscores['average']))\n",
    "    print '\\n\\nDurations:\\n{}'.format(durations)\n",
    "    print 'Average runtime: {:.3f} sec'.format(np.mean(durations))\n",
    "    print('\\n~~~~~~~~~~~~~~~~~~~~~~~~~~~~~~~~~~~~~~~~~~~~~~~~~~~~\\n')\n",
    "   \n",
    "    return ([np.mean(default_test_losses)] + [np.mean(fscores[cl]) for cl in fscores.keys()] + \\\n",
    "            [np.mean(durations), default_cv_result['best_n_estimators']])"
   ]
  },
  {
   "cell_type": "markdown",
   "metadata": {},
   "source": [
    "# XGBoost"
   ]
  },
  {
   "cell_type": "code",
   "execution_count": 38,
   "metadata": {},
   "outputs": [
    {
     "name": "stdout",
     "output_type": "stream",
     "text": [
      "Default XGBoost result on cv:\n",
      "\n",
      "logloss = 0.1842312\n",
      "best_n_estimators = 24\n",
      "params = {'colsample_bytree': 1.0, 'silent': 1, 'eval_metric': 'logloss', 'colsample_bylevel': 1.0, 'min_child_weight': 1, 'subsample': 1.0, 'eta': 0.3, 'objective': 'binary:logistic', 'alpha': 0, 'seed': 0, 'max_depth': 6, 'gamma': 0, 'lambda': 1}\n",
      "\n",
      "~~~~~~~~~~~~~~~~~~~~~~~~~~~~~~~~~~~~~~~~~~~~~~~~~~~~\n",
      "\n",
      "For seed=0 Test's logloss : 0.18976\n",
      "For seed=1 Test's logloss : 0.18976\n",
      "For seed=2 Test's logloss : 0.18976\n",
      "For seed=3 Test's logloss : 0.18976\n",
      "For seed=4 Test's logloss : 0.18976\n",
      "\n",
      "             precision    recall  f1-score   support\n",
      "\n",
      "          0       0.94      0.99      0.97      4996\n",
      "          1       0.64      0.13      0.22       350\n",
      "\n",
      "avg / total       0.92      0.94      0.92      5346\n",
      "\n",
      "\n",
      "\n",
      "Test's logloss mean: 0.18976, Test's logloss std: 0.00000\n",
      "\n",
      "Mean f-score for class 0: 0.96787\n",
      "Mean f-score for class 1: 0.21801\n",
      "\n",
      "Mean average f-score: 0.91877\n",
      "\n",
      "\n",
      "Durations:\n",
      "[0.09656286239624023, 0.08947896957397461, 0.12485218048095703, 0.11870884895324707, 0.09328603744506836]\n",
      "Average runtime on testset: 0.105 sec\n",
      "\n",
      "~~~~~~~~~~~~~~~~~~~~~~~~~~~~~~~~~~~~~~~~~~~~~~~~~~~~\n",
      "\n",
      "CPU times: user 8.21 s, sys: 0 ns, total: 8.21 s\n",
      "Wall time: 2.33 s\n"
     ]
    }
   ],
   "source": [
    "%%time\n",
    "xgb_default_test_result = run_default(XGBExperiment, \"XGBoost\", n_estimators=100)"
   ]
  },
  {
   "cell_type": "markdown",
   "metadata": {},
   "source": [
    "# LightGBM"
   ]
  },
  {
   "cell_type": "code",
   "execution_count": 19,
   "metadata": {},
   "outputs": [
    {
     "name": "stdout",
     "output_type": "stream",
     "text": [
      "Default LightGBM result on cv:\n",
      "\n",
      "logloss = 0.185523602459\n",
      "best_n_estimators = 53\n",
      "params = {'num_leaves': 127, 'verbose': -1, 'bagging_seed': 3, 'learning_rate': 0.1, 'data_random_seed': 1, 'min_data_in_leaf': 100, 'bagging_fraction': 1.0, 'metric': 'binary_logloss', 'feature_fraction_seed': 2, 'lambda_l1': 0, 'bagging_freq': 1, 'lambda_l2': 0, 'max_bin': 255, 'objective': 'binary', 'drop_seed': 4, 'min_sum_hessian_in_leaf': 10, 'feature_fraction': 1.0}\n",
      "\n",
      "~~~~~~~~~~~~~~~~~~~~~~~~~~~~~~~~~~~~~~~~~~~~~~~~~~~~\n",
      "\n",
      "For seed=0 Test's logloss : 0.19312\n",
      "For seed=1 Test's logloss : 0.19312\n",
      "For seed=2 Test's logloss : 0.19312\n",
      "For seed=3 Test's logloss : 0.19312\n",
      "For seed=4 Test's logloss : 0.19312\n",
      "\n",
      "             precision    recall  f1-score   support\n",
      "\n",
      "          0       0.94      0.99      0.97      4996\n",
      "          1       0.52      0.13      0.20       350\n",
      "\n",
      "avg / total       0.91      0.94      0.92      5346\n",
      "\n",
      "\n",
      "\n",
      "Test's logloss mean: 0.19312, Test's logloss std: 0.00000\n",
      "\n",
      "Mean f-score for class 0: 0.96617\n",
      "Mean f-score for class 1: 0.20230\n",
      "\n",
      "Mean average f-score: 0.91616\n",
      "\n",
      "\n",
      "Durations:\n",
      "[0.1294851303100586, 0.15558385848999023, 0.11455607414245605, 0.14821600914001465, 0.1255509853363037]\n",
      "Average runtime on testset: 0.135 sec\n",
      "\n",
      "~~~~~~~~~~~~~~~~~~~~~~~~~~~~~~~~~~~~~~~~~~~~~~~~~~~~\n",
      "\n",
      "CPU times: user 6.74 s, sys: 12 ms, total: 6.75 s\n",
      "Wall time: 1.97 s\n"
     ]
    }
   ],
   "source": [
    "%%time\n",
    "lgb_default_test_result = run_default(LGBExperiment, \"LightGBM\", n_estimators=100)"
   ]
  },
  {
   "cell_type": "markdown",
   "metadata": {},
   "source": [
    "# CatBoost"
   ]
  },
  {
   "cell_type": "code",
   "execution_count": 39,
   "metadata": {},
   "outputs": [
    {
     "name": "stdout",
     "output_type": "stream",
     "text": [
      "Default CatBoost result on cv:\n",
      "\n",
      "logloss = 0.19552777958\n",
      "best_n_estimators = 100\n",
      "params = {'rsm': 1.0, 'random_seed': 0, 'verbose': False, 'learning_rate': 0.03, 'ctr_border_count': 16, 'ctr_description': ['Borders', 'Counter'], 'depth': 6, 'fold_len_multiplier': 2, 'loss_function': 'Logloss', 'iterations': 100, 'l2_leaf_reg': 3, 'leaf_estimation_method': 'Newton', 'gradient_iterations': 10, 'border_count': 128, 'used_ram_limit': 100000000000}\n",
      "\n",
      "~~~~~~~~~~~~~~~~~~~~~~~~~~~~~~~~~~~~~~~~~~~~~~~~~~~~\n",
      "\n",
      "For seed=0 Test's logloss : 0.19781\n",
      "For seed=1 Test's logloss : 0.19719\n",
      "For seed=2 Test's logloss : 0.19766\n",
      "For seed=3 Test's logloss : 0.19687\n",
      "For seed=4 Test's logloss : 0.19627\n",
      "\n",
      "             precision    recall  f1-score   support\n",
      "\n",
      "          0       0.94      1.00      0.97      4996\n",
      "          1       0.67      0.03      0.05       350\n",
      "\n",
      "avg / total       0.92      0.94      0.91      5346\n",
      "\n",
      "\n",
      "\n",
      "Test's logloss mean: 0.19716, Test's logloss std: 0.00056\n",
      "\n",
      "Mean f-score for class 0: 0.96652\n",
      "Mean f-score for class 1: 0.03232\n",
      "\n",
      "Mean average f-score: 0.90536\n",
      "\n",
      "\n",
      "Durations:\n",
      "[1.5291168689727783, 1.4172801971435547, 1.3389098644256592, 1.2355639934539795, 1.1836960315704346]\n",
      "Average runtime on testset: 1.341 sec\n",
      "\n",
      "~~~~~~~~~~~~~~~~~~~~~~~~~~~~~~~~~~~~~~~~~~~~~~~~~~~~\n",
      "\n",
      "CPU times: user 31.5 s, sys: 4.34 s, total: 35.9 s\n",
      "Wall time: 13.1 s\n"
     ]
    }
   ],
   "source": [
    "%%time\n",
    "cab_default_test_result = run_default(CABExperiment, \"CatBoost\", n_estimators=100)"
   ]
  },
  {
   "cell_type": "markdown",
   "metadata": {},
   "source": [
    "## Comparision"
   ]
  },
  {
   "cell_type": "code",
   "execution_count": 40,
   "metadata": {},
   "outputs": [
    {
     "data": {
      "text/html": [
       "<div>\n",
       "<style>\n",
       "    .dataframe thead tr:only-child th {\n",
       "        text-align: right;\n",
       "    }\n",
       "\n",
       "    .dataframe thead th {\n",
       "        text-align: left;\n",
       "    }\n",
       "\n",
       "    .dataframe tbody tr th {\n",
       "        vertical-align: top;\n",
       "    }\n",
       "</style>\n",
       "<table border=\"1\" class=\"dataframe\">\n",
       "  <thead>\n",
       "    <tr style=\"text-align: right;\">\n",
       "      <th></th>\n",
       "      <th>LogLoss</th>\n",
       "      <th>F-measure_Class0</th>\n",
       "      <th>F-measure_Class1</th>\n",
       "      <th>F-measure</th>\n",
       "      <th>MeanRuntime</th>\n",
       "      <th>NumberOfTrees</th>\n",
       "    </tr>\n",
       "  </thead>\n",
       "  <tbody>\n",
       "    <tr>\n",
       "      <th>Default CatBoost</th>\n",
       "      <td>0.19716</td>\n",
       "      <td>0.96652</td>\n",
       "      <td>0.03232</td>\n",
       "      <td>0.90536</td>\n",
       "      <td>1.34091</td>\n",
       "      <td>100</td>\n",
       "    </tr>\n",
       "    <tr>\n",
       "      <th>Default XGBoost</th>\n",
       "      <td>0.18976</td>\n",
       "      <td>0.96787</td>\n",
       "      <td>0.21801</td>\n",
       "      <td>0.91877</td>\n",
       "      <td>0.10458</td>\n",
       "      <td>24</td>\n",
       "    </tr>\n",
       "    <tr>\n",
       "      <th>Default LightGBM</th>\n",
       "      <td>0.19312</td>\n",
       "      <td>0.96617</td>\n",
       "      <td>0.20230</td>\n",
       "      <td>0.91616</td>\n",
       "      <td>0.13468</td>\n",
       "      <td>53</td>\n",
       "    </tr>\n",
       "  </tbody>\n",
       "</table>\n",
       "</div>"
      ],
      "text/plain": [
       "                  LogLoss  F-measure_Class0  F-measure_Class1  F-measure  \\\n",
       "Default CatBoost  0.19716           0.96652           0.03232    0.90536   \n",
       "Default XGBoost   0.18976           0.96787           0.21801    0.91877   \n",
       "Default LightGBM  0.19312           0.96617           0.20230    0.91616   \n",
       "\n",
       "                  MeanRuntime  NumberOfTrees  \n",
       "Default CatBoost      1.34091            100  \n",
       "Default XGBoost       0.10458             24  \n",
       "Default LightGBM      0.13468             53  "
      ]
     },
     "execution_count": 40,
     "metadata": {},
     "output_type": "execute_result"
    }
   ],
   "source": [
    "results = [\n",
    "    cab_default_test_result,\n",
    "    xgb_default_test_result,\n",
    "    lgb_default_test_result\n",
    "]\n",
    "res_df = pd.DataFrame(np.array(results), \n",
    "                      columns=['LogLoss', 'F-measure_Class0', 'F-measure_Class1', 'F-measure', 'MeanRuntime', 'NumberOfTrees'], \n",
    "            index = ['Default CatBoost', 'Default XGBoost', 'Default LightGBM'],\n",
    "                     )\n",
    "res_df['NumberOfTrees'] = res_df['NumberOfTrees'].astype(int)\n",
    "res_df.round(5)"
   ]
  },
  {
   "cell_type": "code",
   "execution_count": 41,
   "metadata": {
    "collapsed": true
   },
   "outputs": [],
   "source": [
    "res_df.to_csv('../results/results_animals_binary.csv')"
   ]
  },
  {
   "cell_type": "code",
   "execution_count": 44,
   "metadata": {},
   "outputs": [
    {
     "data": {
      "text/html": [
       "<div>\n",
       "<style>\n",
       "    .dataframe thead tr:only-child th {\n",
       "        text-align: right;\n",
       "    }\n",
       "\n",
       "    .dataframe thead th {\n",
       "        text-align: left;\n",
       "    }\n",
       "\n",
       "    .dataframe tbody tr th {\n",
       "        vertical-align: top;\n",
       "    }\n",
       "</style>\n",
       "<table border=\"1\" class=\"dataframe\">\n",
       "  <thead>\n",
       "    <tr style=\"text-align: right;\">\n",
       "      <th></th>\n",
       "      <th>LogLoss</th>\n",
       "      <th>F-measure_Class0</th>\n",
       "      <th>F-measure_Class1</th>\n",
       "      <th>F-measure</th>\n",
       "      <th>MeanRuntime</th>\n",
       "      <th>NumberOfTrees</th>\n",
       "    </tr>\n",
       "  </thead>\n",
       "  <tbody>\n",
       "    <tr>\n",
       "      <th>Default CatBoost</th>\n",
       "      <td>0.19716</td>\n",
       "      <td>0.96652</td>\n",
       "      <td>0.03232</td>\n",
       "      <td>0.90536</td>\n",
       "      <td>1.34091</td>\n",
       "      <td>100</td>\n",
       "    </tr>\n",
       "    <tr>\n",
       "      <th>Default XGBoost</th>\n",
       "      <td>0.18976</td>\n",
       "      <td>0.96787</td>\n",
       "      <td>0.21801</td>\n",
       "      <td>0.91877</td>\n",
       "      <td>0.10458</td>\n",
       "      <td>24</td>\n",
       "    </tr>\n",
       "    <tr>\n",
       "      <th>Default LightGBM</th>\n",
       "      <td>0.19312</td>\n",
       "      <td>0.96617</td>\n",
       "      <td>0.20230</td>\n",
       "      <td>0.91616</td>\n",
       "      <td>0.13468</td>\n",
       "      <td>53</td>\n",
       "    </tr>\n",
       "  </tbody>\n",
       "</table>\n",
       "</div>"
      ],
      "text/plain": [
       "                  LogLoss  F-measure_Class0  F-measure_Class1  F-measure  \\\n",
       "Default CatBoost  0.19716           0.96652           0.03232    0.90536   \n",
       "Default XGBoost   0.18976           0.96787           0.21801    0.91877   \n",
       "Default LightGBM  0.19312           0.96617           0.20230    0.91616   \n",
       "\n",
       "                  MeanRuntime  NumberOfTrees  \n",
       "Default CatBoost      1.34091            100  \n",
       "Default XGBoost       0.10458             24  \n",
       "Default LightGBM      0.13468             53  "
      ]
     },
     "execution_count": 44,
     "metadata": {},
     "output_type": "execute_result"
    }
   ],
   "source": [
    "res_df = pd.read_csv('../results/results_animals_binary.csv', index_col=0)\n",
    "res_df.round(5)"
   ]
  },
  {
   "cell_type": "markdown",
   "metadata": {},
   "source": [
    "###### LogLoss"
   ]
  },
  {
   "cell_type": "code",
   "execution_count": 46,
   "metadata": {},
   "outputs": [
    {
     "name": "stdout",
     "output_type": "stream",
     "text": [
      "Populating the interactive namespace from numpy and matplotlib\n"
     ]
    },
    {
     "data": {
      "image/png": "[encoded data removed]",
      "text/plain": [
       "<matplotlib.figure.Figure at 0x7f8b45056190>"
      ]
     },
     "metadata": {},
     "output_type": "display_data"
    }
   ],
   "source": [
    "%pylab inline\n",
    "import seaborn as sns\n",
    "\n",
    "names = ['%s\\n%.5f' % (name, loss) for name, loss in zip(res_df.index, res_df['LogLoss'])]\n",
    "\n",
    "plt.figure(figsize=(15,6))\n",
    "sns.set(font_scale=1.5)\n",
    "sns.set_style(\"whitegrid\")\n",
    "g = sns.barplot(x=res_df.index, y=\"LogLoss\", data=res_df, palette='Set2')\n",
    "g.set(ylim=(0.185, 0.2), ylabel='LogLoss', title='Comparison: LogLoss')\n",
    "_ = g.set_xticklabels(names)"
   ]
  },
  {
   "cell_type": "markdown",
   "metadata": {},
   "source": [
    "###### F-measure for minority class"
   ]
  },
  {
   "cell_type": "code",
   "execution_count": 47,
   "metadata": {},
   "outputs": [
    {
     "data": {
      "image/png": "[encoded data removed]",
      "text/plain": [
       "<matplotlib.figure.Figure at 0x7f8b44a67510>"
      ]
     },
     "metadata": {},
     "output_type": "display_data"
    }
   ],
   "source": [
    "names = ['%s\\n%.5f' % (name, loss) for name, loss in zip(res_df.index, res_df['F-measure_Class1'])]\n",
    "\n",
    "plt.figure(figsize=(15,6))\n",
    "sns.set(font_scale=1.5)\n",
    "sns.set_style(\"whitegrid\")\n",
    "g = sns.barplot(x=res_df.index, y=\"F-measure_Class1\", data=res_df, palette='Set2')\n",
    "g.set(ylim=(0., 0.3), ylabel='F-score', title='Comparison: F-score for class 1')\n",
    "_ = g.set_xticklabels(names)"
   ]
  },
  {
   "cell_type": "markdown",
   "metadata": {},
   "source": [
    "##### Average runtime on testset"
   ]
  },
  {
   "cell_type": "code",
   "execution_count": 48,
   "metadata": {},
   "outputs": [
    {
     "data": {
      "image/png": "[encoded data removed]",
      "text/plain": [
       "<matplotlib.figure.Figure at 0x7f8b45062e10>"
      ]
     },
     "metadata": {},
     "output_type": "display_data"
    }
   ],
   "source": [
    "names = ['{}\\n{:.5f}\\n({} trees)'.format(name, loss, tree) for name, loss, tree in \n",
    "         zip(res_df.index, res_df['MeanRuntime'], res_df['NumberOfTrees'])]\n",
    "\n",
    "plt.figure(figsize=(15,6))\n",
    "sns.set(font_scale=1.5)\n",
    "sns.set_style(\"whitegrid\")\n",
    "g = sns.barplot(x=res_df.index, y=\"MeanRuntime\", data=res_df, palette='Set2')\n",
    "g.set(ylim=(0., 2.5), ylabel='Time (seconds)', title='Comparison: average runtime')\n",
    "_ = g.set_xticklabels(names)"
   ]
  },
  {
   "cell_type": "code",
   "execution_count": 49,
   "metadata": {},
   "outputs": [
    {
     "name": "stdout",
     "output_type": "stream",
     "text": [
      "\n",
      "\n",
      "In this task CatBoost is on average\n",
      "\n",
      "\t\t13 times slower than XGBoost \n",
      "\t\t10 times slower than LightGBM\n"
     ]
    }
   ],
   "source": [
    "print '\\n\\nIn this task CatBoost is on average\\n\\n\\t\\t{:.0f} times slower than XGBoost \\n\\t\\t{:.0f} times slower than LightGBM'.format(\n",
    "    res_df['MeanRuntime'][0]/res_df['MeanRuntime'][1],\n",
    "    res_df['MeanRuntime'][0]/res_df['MeanRuntime'][2]\n",
    ")"
   ]
  },
  {
   "cell_type": "markdown",
   "metadata": {},
   "source": [
    "Почему я пишу то по-русски, то по-английски? Не знаю.\n",
    "\n",
    "Теперь 5000."
   ]
  },
  {
   "cell_type": "markdown",
   "metadata": {},
   "source": [
    "# n_estimators = 5000"
   ]
  },
  {
   "cell_type": "markdown",
   "metadata": {},
   "source": [
    "## XGBoost"
   ]
  },
  {
   "cell_type": "code",
   "execution_count": 50,
   "metadata": {},
   "outputs": [
    {
     "name": "stdout",
     "output_type": "stream",
     "text": [
      "Default XGBoost result on cv:\n",
      "\n",
      "logloss = 0.1842312\n",
      "best_n_estimators = 24\n",
      "params = {'colsample_bytree': 1.0, 'silent': 1, 'eval_metric': 'logloss', 'colsample_bylevel': 1.0, 'min_child_weight': 1, 'subsample': 1.0, 'eta': 0.3, 'objective': 'binary:logistic', 'alpha': 0, 'seed': 0, 'max_depth': 6, 'gamma': 0, 'lambda': 1}\n",
      "\n",
      "~~~~~~~~~~~~~~~~~~~~~~~~~~~~~~~~~~~~~~~~~~~~~~~~~~~~\n",
      "\n",
      "For seed=0 Test's logloss : 0.18976\n",
      "For seed=1 Test's logloss : 0.18976\n",
      "For seed=2 Test's logloss : 0.18976\n",
      "For seed=3 Test's logloss : 0.18976\n",
      "For seed=4 Test's logloss : 0.18976\n",
      "\n",
      "             precision    recall  f1-score   support\n",
      "\n",
      "          0       0.94      0.99      0.97      4996\n",
      "          1       0.64      0.13      0.22       350\n",
      "\n",
      "avg / total       0.92      0.94      0.92      5346\n",
      "\n",
      "\n",
      "\n",
      "Test's logloss mean: 0.18976, Test's logloss std: 0.00000\n",
      "\n",
      "Mean f-score for class 0: 0.96787\n",
      "Mean f-score for class 1: 0.21801\n",
      "\n",
      "Mean average f-score: 0.91877\n",
      "\n",
      "\n",
      "Durations:\n",
      "[0.10034894943237305, 0.1247091293334961, 0.16614294052124023, 0.22560691833496094, 0.27702879905700684]\n",
      "Average runtime on testset: 0.179 sec\n",
      "\n",
      "~~~~~~~~~~~~~~~~~~~~~~~~~~~~~~~~~~~~~~~~~~~~~~~~~~~~\n",
      "\n",
      "CPU times: user 5min 10s, sys: 612 ms, total: 5min 10s\n",
      "Wall time: 1min 23s\n"
     ]
    }
   ],
   "source": [
    "%%time\n",
    "xgb_result_moretrees = run_default(XGBExperiment, \"XGBoost\", n_estimators=5000)"
   ]
  },
  {
   "cell_type": "markdown",
   "metadata": {},
   "source": [
    "# LightGBM"
   ]
  },
  {
   "cell_type": "code",
   "execution_count": 51,
   "metadata": {},
   "outputs": [
    {
     "name": "stdout",
     "output_type": "stream",
     "text": [
      "Default LightGBM result on cv:\n",
      "\n",
      "logloss = 0.185523602459\n",
      "best_n_estimators = 53\n",
      "params = {'num_leaves': 127, 'verbose': -1, 'bagging_seed': 3, 'learning_rate': 0.1, 'data_random_seed': 1, 'min_data_in_leaf': 100, 'bagging_fraction': 1.0, 'metric': 'binary_logloss', 'feature_fraction_seed': 2, 'lambda_l1': 0, 'bagging_freq': 1, 'lambda_l2': 0, 'max_bin': 255, 'objective': 'binary', 'drop_seed': 4, 'min_sum_hessian_in_leaf': 10, 'feature_fraction': 1.0}\n",
      "\n",
      "~~~~~~~~~~~~~~~~~~~~~~~~~~~~~~~~~~~~~~~~~~~~~~~~~~~~\n",
      "\n",
      "For seed=0 Test's logloss : 0.19312\n",
      "For seed=1 Test's logloss : 0.19312\n",
      "For seed=2 Test's logloss : 0.19312\n",
      "For seed=3 Test's logloss : 0.19312\n",
      "For seed=4 Test's logloss : 0.19312\n",
      "\n",
      "             precision    recall  f1-score   support\n",
      "\n",
      "          0       0.94      0.99      0.97      4996\n",
      "          1       0.52      0.13      0.20       350\n",
      "\n",
      "avg / total       0.91      0.94      0.92      5346\n",
      "\n",
      "\n",
      "\n",
      "Test's logloss mean: 0.19312, Test's logloss std: 0.00000\n",
      "\n",
      "Mean f-score for class 0: 0.96617\n",
      "Mean f-score for class 1: 0.20230\n",
      "\n",
      "Mean average f-score: 0.91616\n",
      "\n",
      "\n",
      "Durations:\n",
      "[0.12422299385070801, 0.2712881565093994, 0.11589908599853516, 0.11802411079406738, 0.2174389362335205]\n",
      "Average runtime on testset: 0.169 sec\n",
      "\n",
      "~~~~~~~~~~~~~~~~~~~~~~~~~~~~~~~~~~~~~~~~~~~~~~~~~~~~\n",
      "\n",
      "CPU times: user 1min 40s, sys: 360 ms, total: 1min 41s\n",
      "Wall time: 29.4 s\n"
     ]
    }
   ],
   "source": [
    "%%time\n",
    "lgb_result_moretrees = run_default(LGBExperiment, \"LightGBM\", n_estimators=5000)"
   ]
  },
  {
   "cell_type": "markdown",
   "metadata": {},
   "source": [
    "# CatBoost"
   ]
  },
  {
   "cell_type": "code",
   "execution_count": 53,
   "metadata": {},
   "outputs": [
    {
     "name": "stdout",
     "output_type": "stream",
     "text": [
      "Default CatBoost result on cv:\n",
      "\n",
      "logloss = 0.18004046564\n",
      "best_n_estimators = 1101\n",
      "params = {'rsm': 1.0, 'random_seed': 0, 'verbose': False, 'learning_rate': 0.03, 'ctr_border_count': 16, 'ctr_description': ['Borders', 'Counter'], 'depth': 6, 'fold_len_multiplier': 2, 'loss_function': 'Logloss', 'iterations': 5000, 'l2_leaf_reg': 3, 'leaf_estimation_method': 'Newton', 'gradient_iterations': 10, 'border_count': 128, 'used_ram_limit': 100000000000}\n",
      "\n",
      "~~~~~~~~~~~~~~~~~~~~~~~~~~~~~~~~~~~~~~~~~~~~~~~~~~~~\n",
      "\n",
      "For seed=0 Test's logloss : 0.18807\n",
      "For seed=1 Test's logloss : 0.18738\n",
      "For seed=2 Test's logloss : 0.18693\n",
      "For seed=3 Test's logloss : 0.18783\n",
      "For seed=4 Test's logloss : 0.18743\n",
      "\n",
      "             precision    recall  f1-score   support\n",
      "\n",
      "          0       0.94      0.99      0.97      4996\n",
      "          1       0.58      0.14      0.22       350\n",
      "\n",
      "avg / total       0.92      0.94      0.92      5346\n",
      "\n",
      "\n",
      "\n",
      "Test's logloss mean: 0.18753, Test's logloss std: 0.00039\n",
      "\n",
      "Mean f-score for class 0: 0.96709\n",
      "Mean f-score for class 1: 0.20881\n",
      "\n",
      "Mean average f-score: 0.91745\n",
      "\n",
      "\n",
      "Durations:\n",
      "[15.470853090286255, 15.065618991851807, 15.037335872650146, 15.195022821426392, 15.297264099121094]\n",
      "Average runtime: 15.213 sec\n",
      "\n",
      "~~~~~~~~~~~~~~~~~~~~~~~~~~~~~~~~~~~~~~~~~~~~~~~~~~~~\n",
      "\n",
      "CPU times: user 19min 21s, sys: 2min 9s, total: 21min 30s\n",
      "Wall time: 6min 57s\n"
     ]
    }
   ],
   "source": [
    "%%time\n",
    "cab_result_moretrees = run_default(CABExperiment, \"CatBoost\", n_estimators=5000)"
   ]
  },
  {
   "cell_type": "code",
   "execution_count": 54,
   "metadata": {},
   "outputs": [
    {
     "data": {
      "text/html": [
       "<div>\n",
       "<style>\n",
       "    .dataframe thead tr:only-child th {\n",
       "        text-align: right;\n",
       "    }\n",
       "\n",
       "    .dataframe thead th {\n",
       "        text-align: left;\n",
       "    }\n",
       "\n",
       "    .dataframe tbody tr th {\n",
       "        vertical-align: top;\n",
       "    }\n",
       "</style>\n",
       "<table border=\"1\" class=\"dataframe\">\n",
       "  <thead>\n",
       "    <tr style=\"text-align: right;\">\n",
       "      <th></th>\n",
       "      <th>LogLoss</th>\n",
       "      <th>F-measure_Class0</th>\n",
       "      <th>F-measure_Class1</th>\n",
       "      <th>F-measure</th>\n",
       "      <th>MeanRuntime</th>\n",
       "      <th>NumberOfTrees</th>\n",
       "    </tr>\n",
       "  </thead>\n",
       "  <tbody>\n",
       "    <tr>\n",
       "      <th>Default CatBoost</th>\n",
       "      <td>0.18753</td>\n",
       "      <td>0.96709</td>\n",
       "      <td>0.20881</td>\n",
       "      <td>0.91745</td>\n",
       "      <td>15.21322</td>\n",
       "      <td>1101</td>\n",
       "    </tr>\n",
       "    <tr>\n",
       "      <th>Default XGBoost</th>\n",
       "      <td>0.18976</td>\n",
       "      <td>0.96787</td>\n",
       "      <td>0.21801</td>\n",
       "      <td>0.91877</td>\n",
       "      <td>0.17877</td>\n",
       "      <td>24</td>\n",
       "    </tr>\n",
       "    <tr>\n",
       "      <th>Default LightGBM</th>\n",
       "      <td>0.19312</td>\n",
       "      <td>0.96617</td>\n",
       "      <td>0.20230</td>\n",
       "      <td>0.91616</td>\n",
       "      <td>0.16937</td>\n",
       "      <td>53</td>\n",
       "    </tr>\n",
       "  </tbody>\n",
       "</table>\n",
       "</div>"
      ],
      "text/plain": [
       "                  LogLoss  F-measure_Class0  F-measure_Class1  F-measure  \\\n",
       "Default CatBoost  0.18753           0.96709           0.20881    0.91745   \n",
       "Default XGBoost   0.18976           0.96787           0.21801    0.91877   \n",
       "Default LightGBM  0.19312           0.96617           0.20230    0.91616   \n",
       "\n",
       "                  MeanRuntime  NumberOfTrees  \n",
       "Default CatBoost     15.21322           1101  \n",
       "Default XGBoost       0.17877             24  \n",
       "Default LightGBM      0.16937             53  "
      ]
     },
     "execution_count": 54,
     "metadata": {},
     "output_type": "execute_result"
    }
   ],
   "source": [
    "results_moretrees = [\n",
    "    cab_result_moretrees,\n",
    "    xgb_result_moretrees,\n",
    "    lgb_result_moretrees\n",
    "]\n",
    "more_df = pd.DataFrame(np.array(results_moretrees), \n",
    "                      columns=['LogLoss', 'F-measure_Class0', 'F-measure_Class1', 'F-measure', 'MeanRuntime', 'NumberOfTrees'], \n",
    "            index = ['Default CatBoost', 'Default XGBoost', 'Default LightGBM'],\n",
    "                     )\n",
    "more_df['NumberOfTrees'] = more_df['NumberOfTrees'].astype(int)\n",
    "more_df.round(5)"
   ]
  },
  {
   "cell_type": "code",
   "execution_count": 55,
   "metadata": {
    "collapsed": true
   },
   "outputs": [],
   "source": [
    "more_df.to_csv('../results/results_animals_binary_moretrees.csv')"
   ]
  },
  {
   "cell_type": "code",
   "execution_count": 3,
   "metadata": {},
   "outputs": [
    {
     "data": {
      "text/html": [
       "<div>\n",
       "<style>\n",
       "    .dataframe thead tr:only-child th {\n",
       "        text-align: right;\n",
       "    }\n",
       "\n",
       "    .dataframe thead th {\n",
       "        text-align: left;\n",
       "    }\n",
       "\n",
       "    .dataframe tbody tr th {\n",
       "        vertical-align: top;\n",
       "    }\n",
       "</style>\n",
       "<table border=\"1\" class=\"dataframe\">\n",
       "  <thead>\n",
       "    <tr style=\"text-align: right;\">\n",
       "      <th></th>\n",
       "      <th>LogLoss</th>\n",
       "      <th>F-measure_Class0</th>\n",
       "      <th>F-measure_Class1</th>\n",
       "      <th>F-measure</th>\n",
       "      <th>MeanRuntime</th>\n",
       "      <th>NumberOfTrees</th>\n",
       "    </tr>\n",
       "  </thead>\n",
       "  <tbody>\n",
       "    <tr>\n",
       "      <th>Default CatBoost</th>\n",
       "      <td>0.18753</td>\n",
       "      <td>0.96709</td>\n",
       "      <td>0.20881</td>\n",
       "      <td>0.91745</td>\n",
       "      <td>15.21322</td>\n",
       "      <td>1101</td>\n",
       "    </tr>\n",
       "    <tr>\n",
       "      <th>Default XGBoost</th>\n",
       "      <td>0.18976</td>\n",
       "      <td>0.96787</td>\n",
       "      <td>0.21801</td>\n",
       "      <td>0.91877</td>\n",
       "      <td>0.17877</td>\n",
       "      <td>24</td>\n",
       "    </tr>\n",
       "    <tr>\n",
       "      <th>Default LightGBM</th>\n",
       "      <td>0.19312</td>\n",
       "      <td>0.96617</td>\n",
       "      <td>0.20230</td>\n",
       "      <td>0.91616</td>\n",
       "      <td>0.16937</td>\n",
       "      <td>53</td>\n",
       "    </tr>\n",
       "  </tbody>\n",
       "</table>\n",
       "</div>"
      ],
      "text/plain": [
       "                  LogLoss  F-measure_Class0  F-measure_Class1  F-measure  \\\n",
       "Default CatBoost  0.18753           0.96709           0.20881    0.91745   \n",
       "Default XGBoost   0.18976           0.96787           0.21801    0.91877   \n",
       "Default LightGBM  0.19312           0.96617           0.20230    0.91616   \n",
       "\n",
       "                  MeanRuntime  NumberOfTrees  \n",
       "Default CatBoost     15.21322           1101  \n",
       "Default XGBoost       0.17877             24  \n",
       "Default LightGBM      0.16937             53  "
      ]
     },
     "execution_count": 3,
     "metadata": {},
     "output_type": "execute_result"
    }
   ],
   "source": [
    "more_df = pd.read_csv('../results/results_animals_binary_moretrees.csv', index_col=0)\n",
    "more_df.round(5)"
   ]
  },
  {
   "cell_type": "markdown",
   "metadata": {},
   "source": [
    "###### LogLoss"
   ]
  },
  {
   "cell_type": "code",
   "execution_count": 4,
   "metadata": {},
   "outputs": [
    {
     "name": "stdout",
     "output_type": "stream",
     "text": [
      "Populating the interactive namespace from numpy and matplotlib\n"
     ]
    },
    {
     "data": {
      "image/png": "[encoded data removed]",
      "text/plain": [
       "<matplotlib.figure.Figure at 0x7f05a23bb490>"
      ]
     },
     "metadata": {},
     "output_type": "display_data"
    }
   ],
   "source": [
    "names = ['%s\\n%.5f' % (name, loss) for name, loss in zip(more_df.index, more_df['LogLoss'])]\n",
    "\n",
    "plt.figure(figsize=(15,6))\n",
    "sns.set(font_scale=1.5)\n",
    "sns.set_style(\"whitegrid\")\n",
    "g = sns.barplot(x=more_df.index, y=\"LogLoss\", data=more_df, palette='Set2')\n",
    "g.set(ylim=(0.18, 0.2), ylabel='LogLoss', title='Comparison: LogLoss')\n",
    "_ = g.set_xticklabels(names)"
   ]
  },
  {
   "cell_type": "markdown",
   "metadata": {},
   "source": [
    "###### F-measure for minority class"
   ]
  },
  {
   "cell_type": "code",
   "execution_count": 5,
   "metadata": {},
   "outputs": [
    {
     "data": {
      "image/png": "[encoded data removed]",
      "text/plain": [
       "<matplotlib.figure.Figure at 0x7f05a1ec7cd0>"
      ]
     },
     "metadata": {},
     "output_type": "display_data"
    }
   ],
   "source": [
    "names = ['%s\\n%.5f' % (name, loss) for name, loss in zip(more_df.index, more_df['F-measure_Class1'])]\n",
    "\n",
    "plt.figure(figsize=(15,6))\n",
    "sns.set(font_scale=1.5)\n",
    "sns.set_style(\"whitegrid\")\n",
    "g = sns.barplot(x=more_df.index, y=\"F-measure_Class1\", data=more_df, palette='Set2')\n",
    "g.set(ylim=(0.1, 0.3), ylabel='F-score', title='Comparison: F-score for class 1')\n",
    "_ = g.set_xticklabels(names)"
   ]
  },
  {
   "cell_type": "markdown",
   "metadata": {},
   "source": [
    "##### Average runtime"
   ]
  },
  {
   "cell_type": "code",
   "execution_count": 12,
   "metadata": {
    "scrolled": true
   },
   "outputs": [
    {
     "data": {
      "image/png": "[encoded data removed]",
      "text/plain": [
       "<matplotlib.figure.Figure at 0x7f059e633d50>"
      ]
     },
     "metadata": {},
     "output_type": "display_data"
    }
   ],
   "source": [
    "names = ['{}\\n{:.5f}\\n({} trees)'.format(name, loss, tree) for name, loss, tree in \n",
    "         zip(more_df.index, more_df['MeanRuntime'], more_df['NumberOfTrees'])]\n",
    "\n",
    "plt.figure(figsize=(15,6))\n",
    "sns.set(font_scale=1.5)\n",
    "sns.set_style(\"whitegrid\")\n",
    "g = sns.barplot(x=more_df.index, y=\"MeanRuntime\", data=more_df, palette='Set2')\n",
    "g.set(ylim=(0., 16), ylabel='Time (seconds)', title='Comparison: average runtime')\n",
    "_ = g.set_xticklabels(names)"
   ]
  }
 ],
 "metadata": {
  "kernelspec": {
   "display_name": "Python [conda env:py2]",
   "language": "python",
   "name": "conda-env-py2-py"
  },
  "language_info": {
   "codemirror_mode": {
    "name": "ipython",
    "version": 2
   },
   "file_extension": ".py",
   "mimetype": "text/x-python",
   "name": "python",
   "nbconvert_exporter": "python",
   "pygments_lexer": "ipython2",
   "version": "2.7.13"
  }
 },
 "nbformat": 4,
 "nbformat_minor": 2
}
